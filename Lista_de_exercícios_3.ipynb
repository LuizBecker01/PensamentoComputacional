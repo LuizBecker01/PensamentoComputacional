{
  "nbformat": 4,
  "nbformat_minor": 0,
  "metadata": {
    "colab": {
      "provenance": [],
      "collapsed_sections": [
        "zyuigcR2mdaI",
        "ZWN7yu0FnpIL",
        "gw96KwowpPvp",
        "kJ11DpNxvAIg",
        "LP7sjPjmzxN1",
        "kg4pOo5B1ANY",
        "TahRkJhq1sKR"
      ],
      "include_colab_link": true
    },
    "kernelspec": {
      "name": "python3",
      "display_name": "Python 3"
    },
    "language_info": {
      "name": "python"
    }
  },
  "cells": [
    {
      "cell_type": "markdown",
      "metadata": {
        "id": "view-in-github",
        "colab_type": "text"
      },
      "source": [
        "<a href=\"https://colab.research.google.com/github/LuizBecker01/PensamentoComputacional/blob/main/Lista_de_exerc%C3%ADcios_3.ipynb\" target=\"_parent\"><img src=\"https://colab.research.google.com/assets/colab-badge.svg\" alt=\"Open In Colab\"/></a>"
      ]
    },
    {
      "cell_type": "markdown",
      "source": [
        "#Terceira lista de exercicios"
      ],
      "metadata": {
        "id": "YAQE5p9ih4nh"
      }
    },
    {
      "cell_type": "markdown",
      "source": [
        "###1. Faça o teste de mesa no algoritmo a seguir:\n",
        "\n",
        "\n",
        "``` python\n",
        "  ALGORITMO TABUADA_9;\n",
        "  VAR\n",
        "    N, X, R : INTEIRO;\n",
        "  INICIO\n",
        "    PARA X DE 1 ATE 10 FACA\n",
        "      INICIO\n",
        "        R ← 9 * X;\n",
        "        ESCREVER ( X, ‘ x 9 = ’, R);\n",
        "      FIM;\n",
        "    FIM_PARA;\n",
        "  FIM.\n",
        "```"
      ],
      "metadata": {
        "id": "SMPQDzHviRf5"
      }
    },
    {
      "cell_type": "code",
      "execution_count": null,
      "metadata": {
        "colab": {
          "base_uri": "https://localhost:8080/"
        },
        "id": "yMBNv1NJhw9r",
        "outputId": "448498c9-7af0-410c-a63e-8d568cfe47f5"
      },
      "outputs": [
        {
          "output_type": "stream",
          "name": "stdout",
          "text": [
            "Digite um numero:10\n",
            "0 x 9 = 0\n",
            "1 x 9 = 10\n",
            "2 x 9 = 20\n",
            "3 x 9 = 30\n",
            "4 x 9 = 40\n",
            "5 x 9 = 50\n",
            "6 x 9 = 60\n",
            "7 x 9 = 70\n",
            "8 x 9 = 80\n",
            "9 x 9 = 90\n",
            "10 x 9 = 100\n"
          ]
        }
      ],
      "source": [
        "#tabuada do 9\n",
        "\n",
        "x = int(input(\"Digite um numero:\"))\n",
        "\n",
        "for i in range (11):\n",
        "  r = x * i\n",
        "  print(i, \"x 9 =\", r)\n",
        "\n"
      ]
    },
    {
      "cell_type": "markdown",
      "source": [
        "###2. Faça um programa em Python que mostre todos os números inteiros ímpares situados na faixa de 1000 a 1500."
      ],
      "metadata": {
        "id": "zyuigcR2mdaI"
      }
    },
    {
      "cell_type": "code",
      "source": [
        "# Mostra os números ímpares de 1000 a 1500\n",
        "for numero in range(1000, 1500):\n",
        "  if numero % 2 != 0:\n",
        "    print(numero)"
      ],
      "metadata": {
        "id": "eF7aGUk-mkRQ"
      },
      "execution_count": null,
      "outputs": []
    },
    {
      "cell_type": "markdown",
      "source": [
        "###3. Elabore um programa em Python que calcule e escreva a soma de 10 números lidos."
      ],
      "metadata": {
        "id": "ZWN7yu0FnpIL"
      }
    },
    {
      "cell_type": "code",
      "source": [
        "soma = 0\n",
        "\n",
        "for i in range (10):\n",
        "  numero = float(input(f\"Digite {i+1} numero\"))\n",
        "  soma += numero\n",
        "\n",
        "print(f\"\\nA soma dos 10 números é: {soma}\")\n"
      ],
      "metadata": {
        "colab": {
          "base_uri": "https://localhost:8080/"
        },
        "id": "HH1HA9GVnyV5",
        "outputId": "15a9f7d7-15fb-4253-db83-457eb34295d3"
      },
      "execution_count": null,
      "outputs": [
        {
          "output_type": "stream",
          "name": "stdout",
          "text": [
            "Digite 1 numero10\n",
            "Digite 2 numero15\n",
            "Digite 3 numero20\n",
            "Digite 4 numero30\n",
            "Digite 5 numero40\n",
            "Digite 6 numero50\n",
            "Digite 7 numero60\n",
            "Digite 8 numero70\n",
            "Digite 9 numero80\n",
            "Digite 10 numero90\n",
            "\n",
            "A soma dos 10 números é: 465.0\n"
          ]
        }
      ]
    },
    {
      "cell_type": "markdown",
      "source": [],
      "metadata": {
        "id": "RdAKEWLspOo7"
      }
    },
    {
      "cell_type": "markdown",
      "source": [
        "###4. Faça um programa em Python que leia a nota de 10 alunos de uma turma. Ao final, deve ser escrita a média geral da turma."
      ],
      "metadata": {
        "id": "gw96KwowpPvp"
      }
    },
    {
      "cell_type": "code",
      "source": [
        "numero = 0\n",
        "\n",
        "# faz com que adicione 10 notas digitadas pelo usuário somando elas\n",
        "for i in range (10):\n",
        "  numero += float(input(f\"Digite {i+1} a sua nota\"))\n",
        "\n",
        "#calcula a média\n",
        "media = numero / 10\n",
        "\n",
        "print(media)\n",
        "print(numero)"
      ],
      "metadata": {
        "colab": {
          "base_uri": "https://localhost:8080/"
        },
        "id": "9mmX8UpcpVMh",
        "outputId": "627fcd3a-a37b-442f-a33c-8b5eda36a24d"
      },
      "execution_count": null,
      "outputs": [
        {
          "output_type": "stream",
          "name": "stdout",
          "text": [
            "Digite 1 a sua nota5\n",
            "Digite 2 a sua nota5\n",
            "Digite 3 a sua nota5\n",
            "Digite 4 a sua nota5\n",
            "Digite 5 a sua nota5\n",
            "Digite 6 a sua nota5\n",
            "Digite 7 a sua nota5\n",
            "Digite 8 a sua nota5\n",
            "Digite 9 a sua nota5\n",
            "Digite 10 a sua nota5\n",
            "5.0\n",
            "50.0\n"
          ]
        }
      ]
    },
    {
      "cell_type": "markdown",
      "source": [
        "###5. Faça um programa em Python que leia 5 números. Para cada número fornecido, escreva se ele é NULO, NEGATIVO ou POSITIVO."
      ],
      "metadata": {
        "id": "lbpu3zrprE4L"
      }
    },
    {
      "cell_type": "code",
      "source": [
        "x = 0\n",
        "\n",
        "for i in range (5):\n",
        "  x = int(input(f\"Digite {i+1} numero \" ))\n",
        "  if x > 0:\n",
        "    print(\"Positivo\")\n",
        "  elif x == 0:\n",
        "    print(\"Nulo\")\n",
        "  else:\n",
        "    print(\"Negativo\")"
      ],
      "metadata": {
        "colab": {
          "base_uri": "https://localhost:8080/"
        },
        "id": "RoW5HbSzrMMR",
        "outputId": "6721eea9-0929-450a-ffb2-497fc3087877"
      },
      "execution_count": null,
      "outputs": [
        {
          "output_type": "stream",
          "name": "stdout",
          "text": [
            "Digite 1 numero 5\n",
            "Positivo\n",
            "Digite 2 numero 10\n",
            "Positivo\n",
            "Digite 3 numero -3\n",
            "Negativo\n",
            "Digite 4 numero 0\n",
            "Nulo\n",
            "Digite 5 numero 1\n",
            "Positivo\n"
          ]
        }
      ]
    },
    {
      "cell_type": "markdown",
      "source": [
        "###6. Ler dois valores inteiros e escrever os números em sequência do menor até maior valor."
      ],
      "metadata": {
        "id": "gPYKpdiLshCc"
      }
    },
    {
      "cell_type": "code",
      "source": [
        "num1 = int(input(\"Digite um numero: \"))\n",
        "num2 = int(input(\"Digite o seundo numero\"))\n",
        "\n",
        "if num1 > num2:\n",
        "  for i in range(num2, num1 + 1):\n",
        "    print(i)\n",
        "else:\n",
        "  for i in range(num1, num2 + 1):\n",
        "    print(i)"
      ],
      "metadata": {
        "colab": {
          "base_uri": "https://localhost:8080/"
        },
        "id": "F8TUImukskiL",
        "outputId": "e7b9d708-bb7c-4640-e38b-09dcc8291bf5"
      },
      "execution_count": null,
      "outputs": [
        {
          "output_type": "stream",
          "name": "stdout",
          "text": [
            "Digite um numero: 0\n",
            "Digite o seundo numero5\n",
            "0\n",
            "1\n",
            "2\n",
            "3\n",
            "4\n",
            "5\n"
          ]
        }
      ]
    },
    {
      "cell_type": "markdown",
      "source": [
        "###7. Faça um programa em Python que escreva os números pares entre 100 e 200."
      ],
      "metadata": {
        "id": "kJ11DpNxvAIg"
      }
    },
    {
      "cell_type": "code",
      "source": [
        "for numero in range(100, 200):\n",
        "  if numero % 2 == 0:\n",
        "    print(numero)"
      ],
      "metadata": {
        "colab": {
          "base_uri": "https://localhost:8080/"
        },
        "id": "FEQii3YlvBc3",
        "outputId": "7e392a3b-d980-4525-bae8-eb3db08cdad9"
      },
      "execution_count": null,
      "outputs": [
        {
          "output_type": "stream",
          "name": "stdout",
          "text": [
            "100\n",
            "102\n",
            "104\n",
            "106\n",
            "108\n",
            "110\n",
            "112\n",
            "114\n",
            "116\n",
            "118\n",
            "120\n",
            "122\n",
            "124\n",
            "126\n",
            "128\n",
            "130\n",
            "132\n",
            "134\n",
            "136\n",
            "138\n",
            "140\n",
            "142\n",
            "144\n",
            "146\n",
            "148\n",
            "150\n",
            "152\n",
            "154\n",
            "156\n",
            "158\n",
            "160\n",
            "162\n",
            "164\n",
            "166\n",
            "168\n",
            "170\n",
            "172\n",
            "174\n",
            "176\n",
            "178\n",
            "180\n",
            "182\n",
            "184\n",
            "186\n",
            "188\n",
            "190\n",
            "192\n",
            "194\n",
            "196\n",
            "198\n"
          ]
        }
      ]
    },
    {
      "cell_type": "code",
      "source": [
        "for numero in range(100, 200, 2):\n",
        "    print(numero)"
      ],
      "metadata": {
        "colab": {
          "base_uri": "https://localhost:8080/"
        },
        "id": "H6pn3zUGvZNC",
        "outputId": "91eb3d7f-e1da-4a38-8831-af59bd07b1aa"
      },
      "execution_count": null,
      "outputs": [
        {
          "output_type": "stream",
          "name": "stdout",
          "text": [
            "100\n",
            "102\n",
            "104\n",
            "106\n",
            "108\n",
            "110\n",
            "112\n",
            "114\n",
            "116\n",
            "118\n",
            "120\n",
            "122\n",
            "124\n",
            "126\n",
            "128\n",
            "130\n",
            "132\n",
            "134\n",
            "136\n",
            "138\n",
            "140\n",
            "142\n",
            "144\n",
            "146\n",
            "148\n",
            "150\n",
            "152\n",
            "154\n",
            "156\n",
            "158\n",
            "160\n",
            "162\n",
            "164\n",
            "166\n",
            "168\n",
            "170\n",
            "172\n",
            "174\n",
            "176\n",
            "178\n",
            "180\n",
            "182\n",
            "184\n",
            "186\n",
            "188\n",
            "190\n",
            "192\n",
            "194\n",
            "196\n",
            "198\n"
          ]
        }
      ]
    },
    {
      "cell_type": "markdown",
      "source": [
        "###8. Escrever um programa em Python que leia um valor para n, inteiro e positivo, e escreva atabuada de n. Com os respectivos valores.\n",
        "\n",
        "n x 1 =\n",
        "\n",
        "n x 2 =\n",
        "\n",
        "...\n",
        "\n",
        "n x 10 =\n"
      ],
      "metadata": {
        "id": "LP7sjPjmzxN1"
      }
    },
    {
      "cell_type": "code",
      "source": [
        "x = int(input(\"Digite um numero para multiplicar: \"))\n",
        "\n",
        "for i in range (11):\n",
        "  r = x * i\n",
        "  print(i, \"x\", x, \"=\", r)"
      ],
      "metadata": {
        "colab": {
          "base_uri": "https://localhost:8080/"
        },
        "id": "ICUB7oz1z-hR",
        "outputId": "be3a2633-5f76-412b-8d86-a6782176b5b9"
      },
      "execution_count": null,
      "outputs": [
        {
          "output_type": "stream",
          "name": "stdout",
          "text": [
            "Digite um numero para multiplicar: 10\n",
            "0 x 10 = 0\n",
            "1 x 10 = 10\n",
            "2 x 10 = 20\n",
            "3 x 10 = 30\n",
            "4 x 10 = 40\n",
            "5 x 10 = 50\n",
            "6 x 10 = 60\n",
            "7 x 10 = 70\n",
            "8 x 10 = 80\n",
            "9 x 10 = 90\n",
            "10 x 10 = 100\n"
          ]
        }
      ]
    },
    {
      "cell_type": "markdown",
      "source": [
        "###9. Escrever um programa em Python que gera os números de 1000 a 1999 e escreve aqueles que divididos por 11 dão um resto igual a 5."
      ],
      "metadata": {
        "id": "kg4pOo5B1ANY"
      }
    },
    {
      "cell_type": "code",
      "source": [
        "for i in range(1000, 1999):\n",
        "  if i % 11 == 0:\n",
        "    print(i)"
      ],
      "metadata": {
        "colab": {
          "base_uri": "https://localhost:8080/"
        },
        "id": "WlhtoFGZ1FlA",
        "outputId": "718b9211-42ae-4170-db1e-8cf8a2e65312"
      },
      "execution_count": null,
      "outputs": [
        {
          "output_type": "stream",
          "name": "stdout",
          "text": [
            "1001\n",
            "1012\n",
            "1023\n",
            "1034\n",
            "1045\n",
            "1056\n",
            "1067\n",
            "1078\n",
            "1089\n",
            "1100\n",
            "1111\n",
            "1122\n",
            "1133\n",
            "1144\n",
            "1155\n",
            "1166\n",
            "1177\n",
            "1188\n",
            "1199\n",
            "1210\n",
            "1221\n",
            "1232\n",
            "1243\n",
            "1254\n",
            "1265\n",
            "1276\n",
            "1287\n",
            "1298\n",
            "1309\n",
            "1320\n",
            "1331\n",
            "1342\n",
            "1353\n",
            "1364\n",
            "1375\n",
            "1386\n",
            "1397\n",
            "1408\n",
            "1419\n",
            "1430\n",
            "1441\n",
            "1452\n",
            "1463\n",
            "1474\n",
            "1485\n",
            "1496\n",
            "1507\n",
            "1518\n",
            "1529\n",
            "1540\n",
            "1551\n",
            "1562\n",
            "1573\n",
            "1584\n",
            "1595\n",
            "1606\n",
            "1617\n",
            "1628\n",
            "1639\n",
            "1650\n",
            "1661\n",
            "1672\n",
            "1683\n",
            "1694\n",
            "1705\n",
            "1716\n",
            "1727\n",
            "1738\n",
            "1749\n",
            "1760\n",
            "1771\n",
            "1782\n",
            "1793\n",
            "1804\n",
            "1815\n",
            "1826\n",
            "1837\n",
            "1848\n",
            "1859\n",
            "1870\n",
            "1881\n",
            "1892\n",
            "1903\n",
            "1914\n",
            "1925\n",
            "1936\n",
            "1947\n",
            "1958\n",
            "1969\n",
            "1980\n",
            "1991\n"
          ]
        }
      ]
    },
    {
      "cell_type": "markdown",
      "source": [
        "###10. Faça um programa em Python que leia um número qualquer (N), e realize a soma dos números de 1 até N. Ao final, deve-se escrever o resultado."
      ],
      "metadata": {
        "id": "TahRkJhq1sKR"
      }
    },
    {
      "cell_type": "code",
      "source": [
        "n = int(input(\"Digite um numero: \"))\n",
        "\n",
        "for i in range(1, n + 1):\n",
        "  print(i)\n"
      ],
      "metadata": {
        "colab": {
          "base_uri": "https://localhost:8080/"
        },
        "id": "PV0QR3O32H9w",
        "outputId": "58c752b9-55e9-42e6-8302-b25aec9a513b"
      },
      "execution_count": null,
      "outputs": [
        {
          "output_type": "stream",
          "name": "stdout",
          "text": [
            "Digite um numero: 50\n",
            "1\n",
            "2\n",
            "3\n",
            "4\n",
            "5\n",
            "6\n",
            "7\n",
            "8\n",
            "9\n",
            "10\n",
            "11\n",
            "12\n",
            "13\n",
            "14\n",
            "15\n",
            "16\n",
            "17\n",
            "18\n",
            "19\n",
            "20\n",
            "21\n",
            "22\n",
            "23\n",
            "24\n",
            "25\n",
            "26\n",
            "27\n",
            "28\n",
            "29\n",
            "30\n",
            "31\n",
            "32\n",
            "33\n",
            "34\n",
            "35\n",
            "36\n",
            "37\n",
            "38\n",
            "39\n",
            "40\n",
            "41\n",
            "42\n",
            "43\n",
            "44\n",
            "45\n",
            "46\n",
            "47\n",
            "48\n",
            "49\n",
            "50\n"
          ]
        }
      ]
    },
    {
      "cell_type": "markdown",
      "source": [
        "11. Faça um programa em Python para ler 10 valores inteiros. Para cada valor fornecido escreva uma mensagem que indica se cada valor fornecido é PAR ou ÍMPAR."
      ],
      "metadata": {
        "id": "qpI0DVKd2qBh"
      }
    },
    {
      "cell_type": "code",
      "source": [
        "for i in range(10):\n",
        "  x = int(input(\"Digite um numero para vermos se é impar ou par: \"))\n",
        "\n",
        "  if x % 2 == 0:\n",
        "    print(\"Par\")\n",
        "  else:\n",
        "    print(\"Impar\")\n"
      ],
      "metadata": {
        "id": "0LgN0eGG2vJh"
      },
      "execution_count": null,
      "outputs": []
    },
    {
      "cell_type": "markdown",
      "source": [
        "###12. Faça um programa em Python que leia a idade de 10 alunos, calcule e escreva a média de idade destes."
      ],
      "metadata": {
        "id": "UloqCU3u3i2A"
      }
    },
    {
      "cell_type": "code",
      "source": [
        "soma_idades = 0\n",
        "\n",
        "for i in range(10):\n",
        "    idade = int(input(f\"Digite a idade do aluno {i + 1}: \"))\n",
        "    soma_idades += idade\n",
        "\n",
        "media = soma_idades / 10\n",
        "\n",
        "print(f\"\\nA média de idade dos 10 alunos é: {media:.2f} anos.\")"
      ],
      "metadata": {
        "colab": {
          "base_uri": "https://localhost:8080/"
        },
        "id": "U7JFdti43mdg",
        "outputId": "febea070-2f67-49ac-965c-bd280f44d0bf"
      },
      "execution_count": null,
      "outputs": [
        {
          "output_type": "stream",
          "name": "stdout",
          "text": [
            "Digite a idade do aluno 1: 10\n",
            "Digite a idade do aluno 2: 10\n",
            "Digite a idade do aluno 3: 10\n",
            "Digite a idade do aluno 4: 10\n",
            "Digite a idade do aluno 5: 10\n",
            "Digite a idade do aluno 6: 10\n",
            "Digite a idade do aluno 7: 10\n",
            "Digite a idade do aluno 8: 10\n",
            "Digite a idade do aluno 9: 10\n",
            "Digite a idade do aluno 10: 10\n",
            "\n",
            "A média de idade dos 10 alunos é: 10.00 anos.\n"
          ]
        }
      ]
    },
    {
      "cell_type": "markdown",
      "source": [
        "###13. Faça um algoritmo em Python que leia dois valores inteiros e escreva se eles estão em ordem crescente, decrescente ou são iguais, após isso escreva todos os valores do menor ao maior."
      ],
      "metadata": {
        "id": "eYUHFecz5EPO"
      }
    },
    {
      "cell_type": "code",
      "source": [
        "num1 = int(input(\"Digite o primeiro numero: \"))\n",
        "num2 = int(input(\"Digite o segundo numero: \"))\n",
        "\n",
        "if num1 > num2:\n",
        "  print(\"Crescente\", num2, num1)\n",
        "elif num1 < num2:\n",
        "  print(\"Decrescente\", num2, num1)\n",
        "else:\n",
        "  print(\"São iguais\", num1,)\n",
        "\n",
        "for i in range(num1, num2 + 1):\n",
        "  print(i)\n",
        "\n"
      ],
      "metadata": {
        "colab": {
          "base_uri": "https://localhost:8080/"
        },
        "id": "ids7NSDs5IT-",
        "outputId": "7aefc200-4bbb-4b6d-f1ca-352ea7ca2f7b"
      },
      "execution_count": null,
      "outputs": [
        {
          "output_type": "stream",
          "name": "stdout",
          "text": [
            "Digite o primeiro numero: 50\n",
            "Digite o segundo numero: 30\n",
            "Crescente 30 50\n"
          ]
        }
      ]
    },
    {
      "cell_type": "markdown",
      "source": [
        "###14. Escrever um programa em Python que lê 10 valores para n, um de cada vez, todos inteiros e positivos, e para cada n lido, escreva a tabuada de 1 até n de n.\n",
        "\n",
        "1 x n = n\n",
        "\n",
        "2 x n = 2n\n",
        "\n",
        "...\n",
        "\n",
        "n x n = n2"
      ],
      "metadata": {
        "id": "7e7c-XFx8GNp"
      }
    },
    {
      "cell_type": "code",
      "source": [
        "# Programa que imprime a tabuada de n até n x n, para 10 valores\n",
        "\n",
        "for i in range(10):\n",
        "    n = int(input(f\"Digite o {i + 1}º valor (inteiro e positivo): \"))\n",
        "\n",
        "    if n > 0:\n",
        "        print(f\"Tabuada do número {n}:\")\n",
        "        for j in range(1, n + 1):\n",
        "            print(f\"{j} x {n} = {j * n}\")\n",
        "        print()  # Linha em branco para separar as tabuadas\n",
        "    else:\n",
        "        print(\"Valor inválido. Digite apenas números inteiros positivos.\\n\")"
      ],
      "metadata": {
        "colab": {
          "base_uri": "https://localhost:8080/"
        },
        "id": "Whzvc-RJ8R-6",
        "outputId": "58d00040-555e-440d-9bb1-d5167ce194bc"
      },
      "execution_count": null,
      "outputs": [
        {
          "output_type": "stream",
          "name": "stdout",
          "text": [
            "Digite o 1º valor (inteiro e positivo): 1\n",
            "Tabuada do número 1:\n",
            "1 x 1 = 1\n",
            "\n",
            "Digite o 2º valor (inteiro e positivo): 2\n",
            "Tabuada do número 2:\n",
            "1 x 2 = 2\n",
            "2 x 2 = 4\n",
            "\n",
            "Digite o 3º valor (inteiro e positivo): 3\n",
            "Tabuada do número 3:\n",
            "1 x 3 = 3\n",
            "2 x 3 = 6\n",
            "3 x 3 = 9\n",
            "\n",
            "Digite o 4º valor (inteiro e positivo): 5\n",
            "Tabuada do número 5:\n",
            "1 x 5 = 5\n",
            "2 x 5 = 10\n",
            "3 x 5 = 15\n",
            "4 x 5 = 20\n",
            "5 x 5 = 25\n",
            "\n",
            "Digite o 5º valor (inteiro e positivo): 4\n",
            "Tabuada do número 4:\n",
            "1 x 4 = 4\n",
            "2 x 4 = 8\n",
            "3 x 4 = 12\n",
            "4 x 4 = 16\n",
            "\n",
            "Digite o 6º valor (inteiro e positivo): 6\n",
            "Tabuada do número 6:\n",
            "1 x 6 = 6\n",
            "2 x 6 = 12\n",
            "3 x 6 = 18\n",
            "4 x 6 = 24\n",
            "5 x 6 = 30\n",
            "6 x 6 = 36\n",
            "\n",
            "Digite o 7º valor (inteiro e positivo): 10\n",
            "Tabuada do número 10:\n",
            "1 x 10 = 10\n",
            "2 x 10 = 20\n",
            "3 x 10 = 30\n",
            "4 x 10 = 40\n",
            "5 x 10 = 50\n",
            "6 x 10 = 60\n",
            "7 x 10 = 70\n",
            "8 x 10 = 80\n",
            "9 x 10 = 90\n",
            "10 x 10 = 100\n",
            "\n",
            "Digite o 8º valor (inteiro e positivo): 1\n",
            "Tabuada do número 1:\n",
            "1 x 1 = 1\n",
            "\n",
            "Digite o 9º valor (inteiro e positivo): 1\n",
            "Tabuada do número 1:\n",
            "1 x 1 = 1\n",
            "\n",
            "Digite o 10º valor (inteiro e positivo): 1\n",
            "Tabuada do número 1:\n",
            "1 x 1 = 1\n",
            "\n"
          ]
        }
      ]
    },
    {
      "cell_type": "markdown",
      "source": [
        "1) Escreva um programa que lê um número inteiro N do usuário. O programa deverá escrever na tela o fatorial desse número (N!).\n",
        "\n",
        "Exemplo de entrada:\n",
        "\n",
        "5\n",
        "\n",
        "Saída:\n",
        "\n",
        "120\n",
        "\n",
        "Exemplo de entrada:\n",
        "\n",
        "8\n",
        "\n",
        "Saída:\n",
        "\n",
        "40320"
      ],
      "metadata": {
        "id": "l0_zTpNp-363"
      }
    },
    {
      "cell_type": "code",
      "source": [
        "n = int(input(\"Digite um numero:\"))\n",
        "\n",
        "fatorial = 1\n",
        "for i in range(1, n + 1):\n",
        "  fatorial *= i\n",
        "\n",
        "print(f\"O numero de {n} é {fatorial}\")"
      ],
      "metadata": {
        "colab": {
          "base_uri": "https://localhost:8080/"
        },
        "id": "HPFu4msv-9GT",
        "outputId": "790f1cc8-db27-4835-ed56-ee8e63a34f9b"
      },
      "execution_count": null,
      "outputs": [
        {
          "output_type": "stream",
          "name": "stdout",
          "text": [
            "Digite um numero:8\n",
            "O numero de 8 é 40320\n"
          ]
        }
      ]
    },
    {
      "cell_type": "markdown",
      "source": [
        "## 2) Escreva um programa para uma urna eletrônica. O programa fica lendo os votos até que o usuário informe o valor 4444444 (código de finalização da urna). Após a finalização da urna, o programa deverá escrever na tela a quantidade de votos e o percentual de votos para cada uma das opções abaixo:\n",
        "a. Votos no Candidato 77\n",
        "\n",
        "b. Votos no Candidato 39\n",
        "\n",
        "c. Votos no Candidato 66\n",
        "\n",
        "d. Voto em branco (0)\n",
        "\n",
        "e. Votos nulos (nenhuma das opções anteriores)\n",
        "\n",
        "f. Votos válidos (aqueles computados para algum candidato)\n",
        "\n",
        "g. Votos não válidos"
      ],
      "metadata": {
        "id": "EK2EIh2j7_zS"
      }
    },
    {
      "cell_type": "code",
      "source": [
        "def main():\n",
        "    votos_77 = 0\n",
        "    votos_39 = 0\n",
        "    votos_66 = 0\n",
        "    votos_branco = 0\n",
        "    votos_nulos = 0\n",
        "\n",
        "    print(\"Urna Eletrônica - Digite o número do seu voto:\")\n",
        "    print(\"77 - Candidato 77\")\n",
        "    print(\"39 - Candidato 39\")\n",
        "    print(\"66 - Candidato 66\")\n",
        "    print(\"0  - Voto em Branco\")\n",
        "    print(\"Digite 4444444 para finalizar a votação.\")\n",
        "\n",
        "    while True:\n",
        "        try:\n",
        "            voto = int(input(\"Digite seu voto: \"))\n",
        "\n",
        "            if voto == 4444444:\n",
        "                break\n",
        "            elif voto == 77:\n",
        "                votos_77 += 1\n",
        "            elif voto == 39:\n",
        "                votos_39 += 1\n",
        "            elif voto == 66:\n",
        "                votos_66 += 1\n",
        "            elif voto == 0:\n",
        "                votos_branco += 1\n",
        "            else:\n",
        "                votos_nulos += 1\n",
        "        except ValueError:\n",
        "            print(\"Entrada inválida. Digite um número.\")\n",
        "\n",
        "    total_votos = votos_77 + votos_39 + votos_66 + votos_branco + votos_nulos\n",
        "    votos_validos = votos_77 + votos_39 + votos_66\n",
        "    votos_nao_validos = votos_branco + votos_nulos\n",
        "\n",
        "    def percentual(valor):\n",
        "        return (valor / total_votos * 100) if total_votos > 0 else 0\n",
        "\n",
        "    print(\"\\nResultado da Votação:\")\n",
        "    print(f\"Total de votos: {total_votos}\")\n",
        "    print(f\"Votos no Candidato 77: {votos_77} ({percentual(votos_77):.2f}%)\")\n",
        "    print(f\"Votos no Candidato 39: {votos_39} ({percentual(votos_39):.2f}%)\")\n",
        "    print(f\"Votos no Candidato 66: {votos_66} ({percentual(votos_66):.2f}%)\")\n",
        "    print(f\"Votos em branco: {votos_branco} ({percentual(votos_branco):.2f}%)\")\n",
        "    print(f\"Votos nulos: {votos_nulos} ({percentual(votos_nulos):.2f}%)\")\n",
        "    print(f\"Votos válidos: {votos_validos} ({percentual(votos_validos):.2f}%)\")\n",
        "    print(f\"Votos não válidos: {votos_nao_validos} ({percentual(votos_nao_validos):.2f}%)\")\n",
        "\n",
        "if __name__ == \"__main__\":\n",
        "    main()"
      ],
      "metadata": {
        "colab": {
          "base_uri": "https://localhost:8080/"
        },
        "id": "tvIvpwWifU6W",
        "outputId": "d16d9a3d-a817-4041-da90-c93b2ec91acc"
      },
      "execution_count": null,
      "outputs": [
        {
          "output_type": "stream",
          "name": "stdout",
          "text": [
            "Urna Eletrônica - Digite o número do seu voto:\n",
            "77 - Candidato 77\n",
            "39 - Candidato 39\n",
            "66 - Candidato 66\n",
            "0  - Voto em Branco\n",
            "Digite 4444444 para finalizar a votação.\n",
            "Digite seu voto: 77\n",
            "Digite seu voto: 39\n",
            "Digite seu voto: 77\n",
            "Digite seu voto: 77\n",
            "Digite seu voto: 66\n",
            "Digite seu voto: 39\n",
            "Digite seu voto: 4444444\n",
            "\n",
            "Resultado da Votação:\n",
            "Total de votos: 6\n",
            "Votos no Candidato 77: 3 (50.00%)\n",
            "Votos no Candidato 39: 2 (33.33%)\n",
            "Votos no Candidato 66: 1 (16.67%)\n",
            "Votos em branco: 0 (0.00%)\n",
            "Votos nulos: 0 (0.00%)\n",
            "Votos válidos: 6 (100.00%)\n",
            "Votos não válidos: 0 (0.00%)\n"
          ]
        }
      ]
    }
  ]
}