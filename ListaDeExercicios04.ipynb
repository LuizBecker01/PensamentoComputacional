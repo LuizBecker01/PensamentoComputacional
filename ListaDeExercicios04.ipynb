{
  "nbformat": 4,
  "nbformat_minor": 0,
  "metadata": {
    "colab": {
      "provenance": [],
      "authorship_tag": "ABX9TyNChEY2Z17Nb67/o99zgbga",
      "include_colab_link": true
    },
    "kernelspec": {
      "name": "python3",
      "display_name": "Python 3"
    },
    "language_info": {
      "name": "python"
    }
  },
  "cells": [
    {
      "cell_type": "markdown",
      "metadata": {
        "id": "view-in-github",
        "colab_type": "text"
      },
      "source": [
        "<a href=\"https://colab.research.google.com/github/LuizBecker01/PensamentoComputacional/blob/main/Lista_de_Exercicios_04.ipynb\" target=\"_parent\"><img src=\"https://colab.research.google.com/assets/colab-badge.svg\" alt=\"Open In Colab\"/></a>"
      ]
    },
    {
      "cell_type": "markdown",
      "source": [
        "# Lista de Exercicios 04\n"
      ],
      "metadata": {
        "id": "6ybz9qpMCaiW"
      }
    },
    {
      "cell_type": "markdown",
      "source": [
        "1. Faça um algoritmo em Python que leia a nota de vários alunos de uma turma. Ao final, deve ser\n",
        "escrita a média geral da turma. A leitura das médias somente encerra quando uma nota negativa\n",
        "for digitada."
      ],
      "metadata": {
        "id": "NMjXjypBClWd"
      }
    },
    {
      "cell_type": "code",
      "execution_count": null,
      "metadata": {
        "colab": {
          "base_uri": "https://localhost:8080/"
        },
        "id": "RGcLc-1OCTqi",
        "outputId": "31c21b8d-b9df-45e8-f293-959c7c46c449"
      },
      "outputs": [
        {
          "output_type": "stream",
          "name": "stdout",
          "text": [
            "Digite a nota: 6\n",
            "Digite a nota: 6\n",
            "Digite a nota: 6\n",
            "Digite a nota: 0\n",
            "A média da turma é:  6.0\n"
          ]
        }
      ],
      "source": [
        "# Algoritmo media\n",
        "\n",
        "n = 0\n",
        "t = 0\n",
        "\n",
        "while True:\n",
        "  x=float(input(\"Digite a nota: \"))\n",
        "  if x <= 10:\n",
        "    t += x\n",
        "  else:\n",
        "    print(\"Nota inválida\")\n",
        "  if x <= 0:\n",
        "    break\n",
        "  n += 1\n",
        "\n",
        "print(\"A média da turma é: \", t/n)"
      ]
    },
    {
      "cell_type": "markdown",
      "source": [
        "2. Faça um programa em Python para repetir a leitura de um número enquanto o valor fornecido for\n",
        "diferente de 0. Para cada número fornecido, escrever se ele é NEGATIVO ou POSITIVO. Quando\n",
        "o número 0 for fornecido o algoritmo deve encerrar informando o usuário."
      ],
      "metadata": {
        "id": "pXHpGJk2Crp1"
      }
    },
    {
      "cell_type": "code",
      "source": [
        "# Algoritmo leitura\n",
        "\n",
        "while True:\n",
        "  x=int(input(\"Digite um número: \"))\n",
        "  if x < 0:\n",
        "    print(\"Negativo\")\n",
        "  elif x > 0:\n",
        "    print(\"Positivo\")\n",
        "  else:\n",
        "    print(\"Você digitou o numero zero (0), programa encerrado\")\n",
        "    break"
      ],
      "metadata": {
        "id": "6C2liOBXCtot"
      },
      "execution_count": null,
      "outputs": []
    },
    {
      "cell_type": "markdown",
      "source": [
        "3. Faça um programa em Python para ler uma quantidade indeterminada de valores inteiros. Para\n",
        "cada valor fornecido apresentar uma mensagem que indique se o valor fornecido é PAR ou\n",
        "ÍMPAR. O programa será encerrado imediatamente após a leitura de um valor NULO (zero) ou\n",
        "NEGATIVO."
      ],
      "metadata": {
        "id": "4xfXN_FoCt78"
      }
    },
    {
      "cell_type": "code",
      "source": [
        "# Algoritmo contador\n",
        "\n",
        "while True:\n",
        "  x=int(input(\"Digite um número: \"))\n",
        "  if x <= 0:\n",
        "    print(\"Você digitou um número zerou (0) ou negativo, programa encerrado\")\n",
        "    break\n",
        "  elif x % 2 == 0:\n",
        "    print(\"Par\")\n",
        "  else:\n",
        "    print(\"Ímpar\")"
      ],
      "metadata": {
        "colab": {
          "base_uri": "https://localhost:8080/"
        },
        "id": "ATrT-Qm7Cw_1",
        "outputId": "012c7c33-bdd1-4248-a2a7-180c4df4472c"
      },
      "execution_count": null,
      "outputs": [
        {
          "output_type": "stream",
          "name": "stdout",
          "text": [
            "Digite um número: 0\n",
            "Você digitou um número zerou (0) ou negativo, programa encerrado\n"
          ]
        }
      ]
    },
    {
      "cell_type": "markdown",
      "source": [
        "4. Sabe-se que não existe divisão por zero, para isso faça um programa que leia dois valores inteiros\n",
        "e escreva o resultado da divisão do primeiro pelo segundo. Se o segundo valor informado for\n",
        "ZERO, deve ser impressa uma mensagem de VALOR INVÁLIDO e uma nova leitura do segundo\n",
        "valor deve ser realizada. Ao final do programa deve ser impressa a seguinte mensagem: VOCÊ\n",
        "DESEJA OUTRO CÁLCULO (S/N). Se a resposta for S o programa deverá retornar ao começo,\n",
        "caso contrário deverá encerrar."
      ],
      "metadata": {
        "id": "OclC12JmCxUV"
      }
    },
    {
      "cell_type": "code",
      "source": [
        "# Algoritmo dviPorZero\n",
        "\n",
        "while True:\n",
        "  x=int(input(\"Digite o dividendo: \"))\n",
        "  y=int(input(\"Digite o divisor: \"))\n",
        "  if y == 0:\n",
        "    print(\"Valor inválido\")\n",
        "  elif y != 0:\n",
        "    print(\"O resultado da divisão é:\", x/y)\n",
        "    print(\"Você deseja fazer outro calculo? (s/n)\")\n",
        "    z=input()\n",
        "    if z == \"s\":\n",
        "      continue\n",
        "    else:\n",
        "      print(\"Programa encerrado\")\n",
        "      break"
      ],
      "metadata": {
        "colab": {
          "base_uri": "https://localhost:8080/"
        },
        "id": "vgOtv8uSCzO9",
        "outputId": "7e6451b4-8e2b-46c1-b5cc-a8aae333b42e"
      },
      "execution_count": null,
      "outputs": [
        {
          "output_type": "stream",
          "name": "stdout",
          "text": [
            "Digite o dividendo: 10\n",
            "Digite o divisor: 5\n",
            "O resultado da divisão é: 2.0\n",
            "Você deseja fazer outro calculo? (s/n)\n",
            "s\n",
            "Digite o dividendo: 7\n",
            "Digite o divisor: 0\n",
            "Valor inválido\n",
            "Digite o dividendo: 4\n",
            "Digite o divisor: 2\n",
            "O resultado da divisão é: 2.0\n",
            "Você deseja fazer outro calculo? (s/n)\n",
            "n\n",
            "Programa encerrado\n"
          ]
        }
      ]
    },
    {
      "cell_type": "markdown",
      "source": [
        "5. Faça um programa em Python que verifique a validade de uma senha fornecida pelo usuário. A\n",
        "senha válida é o número 1234.  \n",
        "OBS: Se a senha informada pelo usuário for inválida, a mensagem \"ACESSO NEGADO\" deve\n",
        "ser impressa e repetida a solicitação de uma nova senha até que ela seja válida. Caso\n",
        "contrário deve ser impressa a mensagem \"ACESSO PERMITIDO\" junto com um número\n",
        "que representa quantas vezes a senha foi informada."
      ],
      "metadata": {
        "id": "VQB9qdiECznd"
      }
    },
    {
      "cell_type": "code",
      "source": [
        "# Algoritmo validador\n",
        "\n",
        "senha = \"777\"\n",
        "senha_digitada = \"\"\n",
        "cnt_tentativas = 0\n",
        "\n",
        "while senha_digitada != senha:\n",
        "    senha_digitada = input(\"Digite a senha: \")\n",
        "    cnt_tentativas += 1\n",
        "    if senha_digitada == senha:\n",
        "      break\n",
        "    else:\n",
        "        print(\"Senha incorreta!\")\n",
        "\n",
        "print(f\"Acesso liberado! Após {cnt_tentativas} tentativas\")"
      ],
      "metadata": {
        "colab": {
          "base_uri": "https://localhost:8080/"
        },
        "id": "IHFAUplQC-Sl",
        "outputId": "ce6c4e09-fbb6-4322-bcb6-6d1317a91fb9"
      },
      "execution_count": null,
      "outputs": [
        {
          "output_type": "stream",
          "name": "stdout",
          "text": [
            "Digite a senha: 66\n",
            "Senha incorreta!\n",
            "Digite a senha: 88\n",
            "Senha incorreta!\n",
            "Digite a senha: 777\n",
            "Acesso liberado! Após 3 tentativas\n"
          ]
        }
      ]
    },
    {
      "cell_type": "markdown",
      "source": [
        "6. Faça um programa em Python que verifique a validade de uma senha fornecida pelo usuário. A\n",
        "senha válida é o número 1234. Se a senha informada pelo usuário for válida a mensagem\n",
        "\"ACESSO PERMITIDO\" deve ser informada. O usuário não terá acesso ao sistema se errar a\n",
        "senha três vezes, neste caso a mensagem \"ACESSO NEGADO\" deve ser informada e a cada vez\n",
        "que o usuário errar a senha, dentro do limite, a mensagem informada será \"SENHA ERRADA,\n",
        "TENTATIVA X DE 3\", sendo o X o número da tentativa."
      ],
      "metadata": {
        "id": "CdlwDbVIC-wF"
      }
    },
    {
      "cell_type": "code",
      "source": [
        "# Algoritmo validador\n",
        "\n",
        "senha = \"777\"\n",
        "senha_digitada = \"\"\n",
        "cnt_tentativas = 0\n",
        "\n",
        "while senha_digitada != senha:\n",
        "    senha_digitada = input(\"Digite a senha: \")\n",
        "    cnt_tentativas += 1\n",
        "    if senha_digitada == senha:\n",
        "      print(f\"Acesso liberado! Após {cnt_tentativas} tentativas\")\n",
        "      break\n",
        "    elif cnt_tentativas < 3:\n",
        "      print(\"Senha incorreta!\")\n",
        "    else:\n",
        "      senha_digitada == 3\n",
        "      print(\"Acesso negado\")\n",
        "      break"
      ],
      "metadata": {
        "colab": {
          "base_uri": "https://localhost:8080/"
        },
        "id": "cptn-VpVC_c1",
        "outputId": "2b84fcd2-d111-4b26-88e9-a1862c4e0c30"
      },
      "execution_count": null,
      "outputs": [
        {
          "output_type": "stream",
          "name": "stdout",
          "text": [
            "Digite a senha: 444\n",
            "Senha incorreta!\n",
            "Digite a senha: 777\n",
            "Acesso liberado! Após 2 tentativas\n"
          ]
        }
      ]
    }
  ]
}