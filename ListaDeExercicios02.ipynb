{
  "nbformat": 4,
  "nbformat_minor": 0,
  "metadata": {
    "colab": {
      "provenance": [],
      "authorship_tag": "ABX9TyNjnkMlIZq4jEWQyV3H52+K",
      "include_colab_link": true
    },
    "kernelspec": {
      "name": "python3",
      "display_name": "Python 3"
    },
    "language_info": {
      "name": "python"
    }
  },
  "cells": [
    {
      "cell_type": "markdown",
      "metadata": {
        "id": "view-in-github",
        "colab_type": "text"
      },
      "source": [
        "<a href=\"https://colab.research.google.com/github/LuizBecker01/PensamentoComputacional/blob/main/ListaDeExercicios02.ipynb\" target=\"_parent\"><img src=\"https://colab.research.google.com/assets/colab-badge.svg\" alt=\"Open In Colab\"/></a>"
      ]
    },
    {
      "cell_type": "markdown",
      "source": [
        "#Lista de Exercicios 02\n"
      ],
      "metadata": {
        "id": "8-kPYfXsst6Q"
      }
    },
    {
      "cell_type": "markdown",
      "source": [
        "1 - Faça um algoritmo em Python para ler dois valores numéricos e apresentar a diferença do maior pelo menor."
      ],
      "metadata": {
        "id": "2TM0YaE-s2oo"
      }
    },
    {
      "cell_type": "code",
      "source": [
        "# Algoritmo diferença\n",
        "\n",
        "# inicio\n",
        "num1 = float(input(\"Digite o primeiro número: \"))\n",
        "num2 = float(input(\"Digite o segundo número: \"))\n",
        "\n",
        "if num1 > num2:\n",
        "  diferenca = num1 - num2\n",
        "else:\n",
        "  diferenca = num2 - num1\n",
        "\n",
        "# saida\n",
        "print(f\"A diferença entre os números é: {diferenca}\")"
      ],
      "metadata": {
        "colab": {
          "base_uri": "https://localhost:8080/"
        },
        "id": "EG-jqFsvszLY",
        "outputId": "937ea29c-0508-48cf-cca2-45eb6bcc25d5"
      },
      "execution_count": null,
      "outputs": [
        {
          "output_type": "stream",
          "name": "stdout",
          "text": [
            "Digite o primeiro número: 10\n",
            "Digite o segundo número: 50\n",
            "A diferença entre os números é: 40.0\n"
          ]
        }
      ]
    },
    {
      "cell_type": "markdown",
      "source": [
        "2 - Faça um algoritmo em Python para ler dois números. Se os números forem iguais escrever a\n",
        "mensagem: \"NÚMEROS IGUAIS\" e encerrar a execução; caso contrário, escrever o de maior\n",
        "valor."
      ],
      "metadata": {
        "id": "NnaQOWRztCSH"
      }
    },
    {
      "cell_type": "code",
      "source": [
        "# Algoritmo nums\n",
        "\n",
        "# inicio\n",
        "num1 = float(input(\"Digite o primeiro número: \"))\n",
        "num2 = float(input(\"Digite o segundo número: \"))\n",
        "\n",
        "if num1 == num2:\n",
        "  print(\"Números iguais\")\n",
        "\n",
        "if num1 > num2:\n",
        "  maior = num1\n",
        "else:\n",
        "  maior = num2\n",
        "\n",
        "#saida\n",
        "print(f\"O maior número é: {maior}\")"
      ],
      "metadata": {
        "colab": {
          "base_uri": "https://localhost:8080/"
        },
        "id": "KCq0U-cHtPbI",
        "outputId": "91330526-aa63-4876-b57d-a84727b671f8"
      },
      "execution_count": null,
      "outputs": [
        {
          "output_type": "stream",
          "name": "stdout",
          "text": [
            "Digite o primeiro número: 1\n",
            "Digite o segundo número: 1\n",
            "Números iguais\n",
            "O maior número é: 1.0\n"
          ]
        }
      ]
    },
    {
      "cell_type": "markdown",
      "source": [
        "3 - Faça um algoritmo em Python para ler dois valores: NUM1 e NUM2, e se NUM1 for maior que\n",
        "NUM2 executa a soma de NUM1 e NUM2; caso contrário, executa uma subtração."
      ],
      "metadata": {
        "id": "db52f6kPtQKQ"
      }
    },
    {
      "cell_type": "code",
      "source": [
        "# Algoritmo soma\n",
        "\n",
        "# inicio\n",
        "num1 = float(input(\"Digite o primeiro número: \"))\n",
        "num2 = float(input(\"Digite o segundo número: \"))\n",
        "\n",
        "if num1 > num2:\n",
        "  soma = num1 + num2\n",
        "  print(f\"A soma dos números é: {soma}\")\n",
        "else:\n",
        "  subtracao = num1 - num2\n",
        "  print(f\"A subtração dos números é: {subtracao}\")"
      ],
      "metadata": {
        "colab": {
          "base_uri": "https://localhost:8080/"
        },
        "id": "JCqQR6f7tTlf",
        "outputId": "960cccfe-bb35-4fd7-80ed-44bf62f82146"
      },
      "execution_count": null,
      "outputs": [
        {
          "output_type": "stream",
          "name": "stdout",
          "text": [
            "Digite o primeiro número: 12\n",
            "Digite o segundo número: 2\n",
            "A soma dos números é: 14.0\n"
          ]
        }
      ]
    },
    {
      "cell_type": "markdown",
      "source": [
        "4 - O hotel Pica-Pau cobra R\\$ 150,00 a diária e mais uma taxa de serviços. A taxa de serviços é de:\n",
        "\n",
        "● R\\$ 15 por dia, se número de diárias <15\n",
        "● R\\$ 10 por dia, se número de diárias =15\n",
        "● R\\$ 5 por dia, se número de diárias >15\n",
        "\n",
        "Faça um algoritmo em Python que lê o número de diárias e calcula o total a ser pago pelo cliente."
      ],
      "metadata": {
        "id": "H3ovCCXYtT-P"
      }
    },
    {
      "cell_type": "code",
      "source": [
        "# Algoritmo Pica-Pau\n",
        "\n",
        "# inicio\n",
        "num_diarias = int(input(\"Digite o número de diárias: \"))\n",
        "\n",
        "if num_diarias < 15:\n",
        "  taxa_servicos = 15\n",
        "elif num_diarias == 15:\n",
        "  taxa_servicos = 10\n",
        "else:\n",
        "  taxa_servicos = 5\n",
        "\n",
        "total_a_pagar = 150 + (taxa_servicos * num_diarias)\n",
        "\n",
        "# saida\n",
        "print(f\"O total a pagar pelo cliente é: R${total_a_pagar:.2f}\")\n"
      ],
      "metadata": {
        "colab": {
          "base_uri": "https://localhost:8080/"
        },
        "id": "Waow6gy7tXlX",
        "outputId": "e596c2bf-fae9-4729-f3f0-362babf10e8c"
      },
      "execution_count": null,
      "outputs": [
        {
          "output_type": "stream",
          "name": "stdout",
          "text": [
            "Digite o número de diárias: 12\n",
            "O total a pagar pelo cliente é: R$330.00\n"
          ]
        }
      ]
    },
    {
      "cell_type": "markdown",
      "source": [
        "5 - Escrever um programa em Python que lê as 3 notas obtidas por ele em provas. Para\n",
        "cada aluno, calcular a média de aproveitamento, usando a fórmula:\n",
        "\n",
        "MA = (Nl + N2 + N3)\n",
        "3\n",
        "\n",
        "A atribuição de conceitos obedece à tabela abaixo:\n",
        "Média de Aproveitamento Conceito\n",
        ">= 9.0 A\n",
        ">= 7.5 e < 9.0 B\n",
        ">= 6.0 e < 7.5 C\n",
        ">= 4.0 e < 6.0 D\n",
        "< 4.0 E\n",
        "\n",
        "O programa deve escrever as notas, a média de aproveitamento, o conceito\n",
        "correspondente e a mensagem: \"APROVADO\" se o conceito for A, B, ou C e\n",
        "\"REPROVADO\" se conceito for D ou E."
      ],
      "metadata": {
        "id": "ziSN7SvGtaGP"
      }
    },
    {
      "cell_type": "code",
      "source": [
        "# Algoritmo mediaAP\n",
        "\n",
        "# inicio\n",
        "nota1 = float(input(\"Digite a primeira nota: \"))\n",
        "nota2 = float(input(\"Digite a segunda nota: \"))\n",
        "nota3 = float(input(\"Digite a terceira nota: \"))\n",
        "\n",
        "media_aprov = (nota1 + nota2 + nota3) / 3\n",
        "\n",
        "if media_aprov >= 9.0:\n",
        "  conceito = \"A\"\n",
        "  mensagem = \"APROVADO\"\n",
        "\n",
        "elif media_aprov >= 7.5:\n",
        "  conceito = \"B\"\n",
        "  mensagem = \"APROVADO\"\n",
        "\n",
        "elif media_aprov >= 6.0:\n",
        "  conceito = \"C\"\n",
        "  mensagem = \"APROVADO\"\n",
        "\n",
        "elif media_aprov >= 4.0:\n",
        "  conceito = \"D\"\n",
        "  mensagem = \"REPROVADO\"\n",
        "\n",
        "else:\n",
        "  conceito = \"E\"\n",
        "  mensagem = \"REPROVADO\"\n",
        "\n",
        "  #saida\n",
        "print(f\"Notas: {nota1}, {nota2}, {nota3}\")\n",
        "print(f\"Média de Aproveitamento: {media_aprov:.2f}\")\n",
        "print(f\"Conceito: {conceito}\")\n",
        "print(mensagem)"
      ],
      "metadata": {
        "colab": {
          "base_uri": "https://localhost:8080/"
        },
        "id": "4unofrkjteyo",
        "outputId": "cdca4bad-b2dc-4d0a-d3bd-03a77b3a014b"
      },
      "execution_count": null,
      "outputs": [
        {
          "output_type": "stream",
          "name": "stdout",
          "text": [
            "Digite a primeira nota: 10\n",
            "Digite a segunda nota: 9\n",
            "Digite a terceira nota: 9\n",
            "Notas: 10.0, 9.0, 9.0\n",
            "Média de Aproveitamento: 9.33\n",
            "Conceito: A\n",
            "APROVADO\n"
          ]
        }
      ]
    },
    {
      "cell_type": "markdown",
      "source": [
        "6 - Faça um programa em Python que leia a altura e o sexo de uma pessoa, calcule seu\n",
        "peso ideal, utilizando as seguintes fórmulas:\n",
        "● homens : (72,7*altura) –58\n",
        "● mulheres : (62,1*altura) – 44,7"
      ],
      "metadata": {
        "id": "2YoQQjfEtjLJ"
      }
    },
    {
      "cell_type": "code",
      "source": [
        "# Algoritmo pesoIdeal\n",
        "\n",
        "# inicio\n",
        "altura = float(input(\"Digite a altura: \"))\n",
        "sexo = input(\"Digite o sexo (M/F): \")\n",
        "\n",
        "if sexo == \"M\":\n",
        "  peso_ideal = (72.7 * altura) - 58\n",
        "else:\n",
        "  peso_ideal = (62.1 * altura) - 44.7\n",
        "\n",
        "#saida\n",
        "print(f\"O peso ideal para a altura {altura} e sexo {sexo} é: {peso_ideal:.2f}\")"
      ],
      "metadata": {
        "colab": {
          "base_uri": "https://localhost:8080/"
        },
        "id": "VRGM0LOxtp9H",
        "outputId": "bbaa89c8-bfb2-4ab4-b8c2-0cb883e4bf32"
      },
      "execution_count": null,
      "outputs": [
        {
          "output_type": "stream",
          "name": "stdout",
          "text": [
            "Digite a altura: 1.67\n",
            "Digite o sexo (M/F): m\n",
            "O peso ideal para a altura 1.67 e sexo m é: 59.01\n"
          ]
        }
      ]
    },
    {
      "cell_type": "markdown",
      "source": [
        "7 - Escrever um programa em Python que lê os seguintes dados de um funcionário: o\n",
        "número de horas trabalhadas e o valor que recebe por hora. Calcular e escrever, o salário\n",
        "bruto (SB) e o valor de desconto do Imposto de Renda (IR) como segue:\n",
        "\n",
        "● Se SB > 3.500,00 então IR = 15% do SB\n",
        "● Se SB > 1.500,00 e SB <= 3.500,00 então IR = 8% do SB\n",
        "● Se SB <= 1.500,00 então IR = 0."
      ],
      "metadata": {
        "id": "YtmKFHrutqcA"
      }
    },
    {
      "cell_type": "code",
      "source": [
        "# Algoritmo funcionarios\n",
        "\n",
        "# inicio\n",
        "num_horas = float(input(\"Digite o número de horas trabalhadas: \"))\n",
        "valor_hora = float(input(\"Digite o valor que recebe por hora: \"))\n",
        "\n",
        "salario_bruto = num_horas * valor_hora\n",
        "\n",
        "if salario_bruto > 3500:\n",
        "  ir = 0.15 * salario_bruto\n",
        "elif salario_bruto > 1500:\n",
        "  ir = 0.08 * salario_bruto\n",
        "else:\n",
        "  ir = 0\n",
        "\n",
        "#saida\n",
        "print(f\"Salário bruto: R${salario_bruto:.2f}\")\n",
        "print(f\"Valor de desconto do IR: R${ir:.2f}\")"
      ],
      "metadata": {
        "colab": {
          "base_uri": "https://localhost:8080/"
        },
        "id": "cilo78tStt7Q",
        "outputId": "704b6902-a45d-4c7c-e249-be4b0a710a67"
      },
      "execution_count": null,
      "outputs": [
        {
          "output_type": "stream",
          "name": "stdout",
          "text": [
            "Digite o número de horas trabalhadas: 12\n",
            "Digite o valor que recebe por hora: 2000\n",
            "Salário bruto: R$24000.00\n",
            "Valor de desconto do IR: R$3600.00\n"
          ]
        }
      ]
    }
  ]
}