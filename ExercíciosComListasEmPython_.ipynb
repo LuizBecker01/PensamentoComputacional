{
  "nbformat": 4,
  "nbformat_minor": 0,
  "metadata": {
    "colab": {
      "provenance": [],
      "authorship_tag": "ABX9TyOGSBSgtLs1Oao93eNPeDC7",
      "include_colab_link": true
    },
    "kernelspec": {
      "name": "python3",
      "display_name": "Python 3"
    },
    "language_info": {
      "name": "python"
    }
  },
  "cells": [
    {
      "cell_type": "markdown",
      "metadata": {
        "id": "view-in-github",
        "colab_type": "text"
      },
      "source": [
        "<a href=\"https://colab.research.google.com/github/LuizBecker01/PensamentoComputacional/blob/main/Exerc%C3%ADciosComListasEmPython_.ipynb\" target=\"_parent\"><img src=\"https://colab.research.google.com/assets/colab-badge.svg\" alt=\"Open In Colab\"/></a>"
      ]
    },
    {
      "cell_type": "markdown",
      "source": [
        "# Exercícios com Listas em Python"
      ],
      "metadata": {
        "id": "bvRooD79e9rp"
      }
    },
    {
      "cell_type": "markdown",
      "source": [
        "### Exercício 1 – Array de 5 Nomes"
      ],
      "metadata": {
        "id": "6IuIPUNBfcGi"
      }
    },
    {
      "cell_type": "code",
      "execution_count": null,
      "metadata": {
        "colab": {
          "base_uri": "https://localhost:8080/"
        },
        "id": "8r-RNIz5e3JO",
        "outputId": "7bcad597-0f12-426d-e474-20916204879e"
      },
      "outputs": [
        {
          "output_type": "stream",
          "name": "stdout",
          "text": [
            "Digite 5 nomes:\n",
            "Nome 1: Rogério\n",
            "Nome 2: Amanda\n",
            "Nome 3: Luiz\n",
            "Nome 4: Juliana\n",
            "Nome 5: Carlos\n",
            "\n",
            "Nomes digitados:\n",
            "Rogério\n",
            "Amanda\n",
            "Luiz\n",
            "Juliana\n",
            "Carlos\n"
          ]
        }
      ],
      "source": [
        "\n",
        "# Lista para armazenar os nomes\n",
        "nomes = []\n",
        "\n",
        "# Leitura de 5 nomes\n",
        "print(\"Digite 5 nomes:\")\n",
        "for i in range(5):\n",
        "    nome = input(f\"Nome {i + 1}: \")\n",
        "    nomes.append(nome)\n",
        "\n",
        "# Exibição dos nomes do primeiro ao último\n",
        "print(\"\\nNomes digitados:\")\n",
        "for nome in nomes:\n",
        "    print(nome)\n"
      ]
    },
    {
      "cell_type": "markdown",
      "source": [
        "### Exercício 2 – Lista com Quantidade Informada"
      ],
      "metadata": {
        "id": "VWe--No-fh2E"
      }
    },
    {
      "cell_type": "code",
      "source": [
        "# Pergunta ao usuário quantos nomes ele vai informar\n",
        "quantidade = int(input(\"Quantos nomes você vai digitar? \"))\n",
        "\n",
        "# Lista para armazenar os nomes\n",
        "nomes = []\n",
        "\n",
        "# Leitura dos nomes\n",
        "for i in range(quantidade):\n",
        "    nome = input(f\"Digite o nome {i + 1}: \")\n",
        "    nomes.append(nome)\n",
        "\n",
        "# Exibição dos nomes na ordem informada\n",
        "print(\"\\nNomes digitados:\")\n",
        "for nome in nomes:\n",
        "    print(nome)"
      ],
      "metadata": {
        "colab": {
          "base_uri": "https://localhost:8080/"
        },
        "id": "du4eXztafZt6",
        "outputId": "8a6488fd-299b-4a4a-a10e-c741b7df7e16"
      },
      "execution_count": null,
      "outputs": [
        {
          "output_type": "stream",
          "name": "stdout",
          "text": [
            "Quantos nomes você vai digitar? 7\n",
            "Digite o nome 1: Rogério\n",
            "Digite o nome 2: Amanda\n",
            "Digite o nome 3: Luiz\n",
            "Digite o nome 4: Juliana\n",
            "Digite o nome 5: Carlos\n",
            "Digite o nome 6: Ana\n",
            "Digite o nome 7: Armando\n",
            "\n",
            "Nomes digitados:\n",
            "Rogério\n",
            "Amanda\n",
            "Luiz\n",
            "Juliana\n",
            "Carlos\n",
            "Ana\n",
            "Armando\n"
          ]
        }
      ]
    },
    {
      "cell_type": "markdown",
      "source": [
        "### Exercício 3 – Times de Futebol"
      ],
      "metadata": {
        "id": "Qes5ZkqBf55z"
      }
    },
    {
      "cell_type": "code",
      "source": [
        "# Pergunta ao usuário quantos times ele quer digitar\n",
        "quantidade = int(input(\"Quantos times você vai digitar? \"))\n",
        "\n",
        "# Lista para armazenar os nomes dos times\n",
        "times = []\n",
        "\n",
        "# Leitura dos nomes dos times\n",
        "for i in range(quantidade):\n",
        "    time = input(f\"Digite o nome do time {i + 1}: \")\n",
        "    times.append(time)\n",
        "\n",
        "# Exibição do primeiro e último\n",
        "print(\"\\nResultados:\")\n",
        "print(f\"{times[0]} (primeiro)\")\n",
        "\n",
        "# Verifica se a quantidade é ímpar ou par para exibir o meio corretamente\n",
        "if quantidade % 2 == 1:\n",
        "    meio = quantidade // 2\n",
        "    print(f\"{times[meio]} (meio)\")\n",
        "else:\n",
        "    meio1 = quantidade // 2 - 1\n",
        "    meio2 = quantidade // 2\n",
        "    print(f\"{times[meio1]}/{times[meio2]} (meio)\")\n",
        "\n",
        "print(f\"{times[-1]} (último)\")\n"
      ],
      "metadata": {
        "colab": {
          "base_uri": "https://localhost:8080/"
        },
        "id": "w4nZCb40f8bB",
        "outputId": "a3c7a3dc-70b9-4bcf-e5f7-ca94aee83148"
      },
      "execution_count": null,
      "outputs": [
        {
          "output_type": "stream",
          "name": "stdout",
          "text": [
            "Quantos times você vai digitar? 7\n",
            "Digite o nome do time 1: Grêmio\n",
            "Digite o nome do time 2: Inter\n",
            "Digite o nome do time 3: Palmeiras\n",
            "Digite o nome do time 4: Fluminense\n",
            "Digite o nome do time 5: Botafogo\n",
            "Digite o nome do time 6: Flamengo\n",
            "Digite o nome do time 7: Cruzeiro\n",
            "\n",
            "Resultados:\n",
            "Grêmio (primeiro)\n",
            "Fluminense (meio)\n",
            "Cruzeiro (último)\n"
          ]
        }
      ]
    },
    {
      "cell_type": "markdown",
      "source": [
        "### Exercício 4 – Exibir Números (Ordem Normal)"
      ],
      "metadata": {
        "id": "SxGyy2x2ghBY"
      }
    },
    {
      "cell_type": "code",
      "source": [
        "# Lista para armazenar os números\n",
        "numeros = []\n",
        "\n",
        "while True:\n",
        "  entrada = input(\"Digite um número (ou 'sair' para encerrar): \")\n",
        "  if entrada.lower() == 'sair':\n",
        "    break\n",
        "  elif entrada.isdigit():\n",
        "    numeros.append(float(entrada))\n",
        "  else:\n",
        "    print(\"Entrada inválida. Por favor, digite um número ou 'sair'.\")\n",
        "\n",
        "for numero in numeros:\n",
        "    print(numero)"
      ],
      "metadata": {
        "colab": {
          "base_uri": "https://localhost:8080/"
        },
        "id": "PfLUusiAgiTZ",
        "outputId": "2ed63666-ea03-4b89-d790-fb1ae0c612e6"
      },
      "execution_count": null,
      "outputs": [
        {
          "output_type": "stream",
          "name": "stdout",
          "text": [
            "Digite um número (ou 'sair' para encerrar): 7\n",
            "Digite um número (ou 'sair' para encerrar): 4\n",
            "Digite um número (ou 'sair' para encerrar): 7\n",
            "Digite um número (ou 'sair' para encerrar): 2\n",
            "Digite um número (ou 'sair' para encerrar): 1\n",
            "Digite um número (ou 'sair' para encerrar): sair\n",
            "7.0\n",
            "4.0\n",
            "7.0\n",
            "2.0\n",
            "1.0\n"
          ]
        }
      ]
    },
    {
      "cell_type": "markdown",
      "source": [
        "## Exercício 5 – Exibir Números (Ordem Inversa)"
      ],
      "metadata": {
        "id": "Io5DJJJN6HBy"
      }
    },
    {
      "cell_type": "code",
      "source": [
        "# Lista para armazenar os números\n",
        "numeros = []\n",
        "\n",
        "while True:\n",
        "  entrada = input(\"Digite um número (ou 'sair' para encerrar): \")\n",
        "  if entrada.lower() == 'sair':\n",
        "    break\n",
        "  elif entrada.isdigit():\n",
        "    numeros.append(float(entrada))\n",
        "  else:\n",
        "    print(\"Entrada inválida. Por favor, digite um número ou 'sair'.\")\n",
        "\n",
        "for numero in reversed(numeros):\n",
        "    print(numero)"
      ],
      "metadata": {
        "colab": {
          "base_uri": "https://localhost:8080/"
        },
        "id": "G2S0R0eQ6MAJ",
        "outputId": "95be3533-b1b2-4c43-a6e4-210f5e5d7a29"
      },
      "execution_count": 6,
      "outputs": [
        {
          "output_type": "stream",
          "name": "stdout",
          "text": [
            "Digite um número (ou 'sair' para encerrar): 7\n",
            "Digite um número (ou 'sair' para encerrar): 4\n",
            "Digite um número (ou 'sair' para encerrar): 7\n",
            "Digite um número (ou 'sair' para encerrar): 2\n",
            "Digite um número (ou 'sair' para encerrar): 1\n",
            "Digite um número (ou 'sair' para encerrar): 8\n",
            "Digite um número (ou 'sair' para encerrar): 9\n",
            "Digite um número (ou 'sair' para encerrar): 4\n",
            "Digite um número (ou 'sair' para encerrar): 11\n",
            "Digite um número (ou 'sair' para encerrar): sair\n",
            "11.0\n",
            "4.0\n",
            "9.0\n",
            "8.0\n",
            "1.0\n",
            "2.0\n",
            "7.0\n",
            "4.0\n",
            "7.0\n"
          ]
        }
      ]
    },
    {
      "cell_type": "markdown",
      "source": [
        "### Exercício 6 – Exibir Números Pulando de 2 em 2"
      ],
      "metadata": {
        "id": "cUQQT-oGhFhy"
      }
    },
    {
      "cell_type": "code",
      "source": [
        "print(\"\\nEntrada:\")\n",
        "\n",
        "# Lê a quantidade de números\n",
        "n = int(input())\n",
        "\n",
        "# Lê os n números e guarda na lista\n",
        "numeros = []\n",
        "for _ in range(n):\n",
        "    numeros.append(int(input()))\n",
        "\n",
        "print(\"\\nSaída:\")\n",
        "\n",
        "# Percorre a lista do início ao fim, pulando de 2 em 2\n",
        "for i in range(0, n, 2):\n",
        "    print(numeros[i])\n"
      ],
      "metadata": {
        "colab": {
          "base_uri": "https://localhost:8080/"
        },
        "id": "vMKtYHfqheKm",
        "outputId": "24f33ab4-3a3e-46a8-91c5-03c53f0e8fb1"
      },
      "execution_count": 8,
      "outputs": [
        {
          "output_type": "stream",
          "name": "stdout",
          "text": [
            "\n",
            "Entrada:\n",
            "8\n",
            "8\n",
            "3\n",
            "7\n",
            "0\n",
            "2\n",
            "9\n",
            "5\n",
            "2\n",
            "\n",
            "Saída:\n",
            "8\n",
            "7\n",
            "2\n",
            "5\n"
          ]
        }
      ]
    },
    {
      "cell_type": "markdown",
      "source": [
        "\n",
        "## Exercício 7 – Exibir Números Inversos Pulando de 3 em 3"
      ],
      "metadata": {
        "id": "zxuI2NYL59xp"
      }
    },
    {
      "cell_type": "code",
      "source": [
        "print(\"\\nEntrada:\")\n",
        "\n",
        "# Lê a quantidade de números\n",
        "n = int(input())\n",
        "\n",
        "# Lê os n números e guarda na lista\n",
        "numeros = []\n",
        "for _ in range(n):\n",
        "    numeros.append(int(input()))\n",
        "\n",
        "print(\"\\nSaída:\")\n",
        "\n",
        "# Percorre a lista do final para o início, pulando de 3 em 3\n",
        "for i in range(n-1, -1, -3):\n",
        "    print(numeros[i])"
      ],
      "metadata": {
        "id": "pwsHaIeT5_TB",
        "colab": {
          "base_uri": "https://localhost:8080/"
        },
        "outputId": "52ccb49a-9630-40a3-de8b-0183e6def6cc"
      },
      "execution_count": 4,
      "outputs": [
        {
          "output_type": "stream",
          "name": "stdout",
          "text": [
            "\n",
            "Entrada:\n",
            "8\n",
            "8\n",
            "3\n",
            "7\n",
            "0\n",
            "2\n",
            "9\n",
            "5\n",
            "2\n",
            "\n",
            "Saída:\n",
            "2\n",
            "2\n",
            "3\n"
          ]
        }
      ]
    },
    {
      "cell_type": "markdown",
      "source": [
        "### Exercício 8 – Exibir a Partir do Meio"
      ],
      "metadata": {
        "id": "F3rckDtBiBB0"
      }
    },
    {
      "cell_type": "code",
      "source": [
        "# Lê a quantidade de números\n",
        "quantidade = int(input(\"Quantos números você vai digitar? \"))\n",
        "\n",
        "# Lista para armazenar os números\n",
        "numeros = []\n",
        "\n",
        "# Lê os números\n",
        "for i in range(quantidade):\n",
        "    numero = int(input(f\"Digite o número {i + 1}: \"))\n",
        "    numeros.append(numero)\n",
        "\n",
        "print(\"\\nSaída:\")\n",
        "\n",
        "if quantidade % 2 == 1:\n",
        "    # Ímpar: um único elemento central\n",
        "    meio = quantidade // 2\n",
        "\n",
        "    # Do meio ao primeiro (reverso)\n",
        "    for i in range(meio, -1, -1):\n",
        "        print(numeros[i])\n",
        "\n",
        "    # Do meio ao último (normal)\n",
        "    for i in range(meio + 1, quantidade):\n",
        "        print(numeros[i])\n",
        "\n",
        "else:\n",
        "    # Par: dois elementos centrais, vamos considerar o da esquerda como ponto de início\n",
        "    meio_esquerda = quantidade // 2 - 1\n",
        "    meio_direita = quantidade // 2\n",
        "\n",
        "    # Do meio da esquerda ao primeiro\n",
        "    for i in range(meio_esquerda, -1, -1):\n",
        "        print(numeros[i])\n",
        "\n",
        "    # Do meio da direita ao último\n",
        "    for i in range(meio_direita, quantidade):\n",
        "        print(numeros[i])"
      ],
      "metadata": {
        "colab": {
          "base_uri": "https://localhost:8080/"
        },
        "id": "RqqqrbCHiERa",
        "outputId": "e9914612-3446-42b5-b42e-532fce287787"
      },
      "execution_count": null,
      "outputs": [
        {
          "output_type": "stream",
          "name": "stdout",
          "text": [
            "Quantos números você vai digitar? 5\n",
            "Digite o número 1: 8\n",
            "Digite o número 2: 3\n",
            "Digite o número 3: 7\n",
            "Digite o número 4: 0\n",
            "Digite o número 5: 2\n",
            "\n",
            "Saída:\n",
            "7\n",
            "3\n",
            "8\n",
            "0\n",
            "2\n"
          ]
        }
      ]
    },
    {
      "cell_type": "markdown",
      "source": [
        "### Exercício 9 – Filtrar Salários"
      ],
      "metadata": {
        "id": "cWbL226ziVlm"
      }
    },
    {
      "cell_type": "code",
      "source": [
        "# Lê a quantidade de salários\n",
        "quantidade = int(input(\"Quantos salários você vai digitar? \"))\n",
        "\n",
        "# Lista para armazenar os salários\n",
        "salarios = []\n",
        "\n",
        "# Leitura dos salários\n",
        "for i in range(quantidade):\n",
        "    salario = float(input(f\"Digite o salário {i + 1}: \"))\n",
        "    salarios.append(salario)\n",
        "\n",
        "# Exibe os salários maiores ou iguais a R$1412,00\n",
        "print(\"\\nSalários maiores ou iguais a R$1412,00:\")\n",
        "for salario in salarios:\n",
        "    if salario >= 1412.00:\n",
        "        print(salario)\n"
      ],
      "metadata": {
        "colab": {
          "base_uri": "https://localhost:8080/"
        },
        "id": "krLTkUjyiXwW",
        "outputId": "1162d5d4-2164-47dc-f98f-1285a3c45ded"
      },
      "execution_count": null,
      "outputs": [
        {
          "output_type": "stream",
          "name": "stdout",
          "text": [
            "Quantos salários você vai digitar? 5\n",
            "Digite o salário 1: 3500.0\n",
            "Digite o salário 2: 1400.0\n",
            "Digite o salário 3: 900.2\n",
            "Digite o salário 4: 1900.2\n",
            "Digite o salário 5: 899.0\n",
            "\n",
            "Salários maiores ou iguais a R$1412,00:\n",
            "3500.0\n",
            "1900.2\n"
          ]
        }
      ]
    },
    {
      "cell_type": "markdown",
      "source": [
        "### Exercício 10 – Notas dos Alunos (Separar Aprovação)"
      ],
      "metadata": {
        "id": "I95u-eaHibSH"
      }
    },
    {
      "cell_type": "code",
      "source": [
        "# Lê a quantidade de notas\n",
        "quantidade = int(input(\"Quantas notas você vai digitar? \"))\n",
        "\n",
        "# Listas separadas para notas com e sem média\n",
        "notas_com_media = []\n",
        "notas_sem_media = []\n",
        "\n",
        "# Leitura das notas e separação\n",
        "for i in range(quantidade):\n",
        "    nota = float(input(f\"Digite a nota {i + 1}: \"))\n",
        "    if nota >= 7.0:\n",
        "        notas_com_media.append(nota)\n",
        "    else:\n",
        "        notas_sem_media.append(nota)\n",
        "\n",
        "# Exibição das notas\n",
        "print(\"\\nNotas com média:\", ', '.join(map(str, notas_com_media)))\n",
        "print(\"Notas sem média:\", ', '.join(map(str, notas_sem_media)))\n"
      ],
      "metadata": {
        "colab": {
          "base_uri": "https://localhost:8080/"
        },
        "id": "GbCQDmNsidx-",
        "outputId": "bd8cc8f9-4e5d-41e4-fb30-acdc5b25b7b9"
      },
      "execution_count": null,
      "outputs": [
        {
          "output_type": "stream",
          "name": "stdout",
          "text": [
            "Quantas notas você vai digitar? 11\n",
            "Digite a nota 1: 10\n",
            "Digite a nota 2: 9.0\n",
            "Digite a nota 3: 7.0\n",
            "Digite a nota 4: 7.5\n",
            "Digite a nota 5: 6.5\n",
            "Digite a nota 6: 8.0\n",
            "Digite a nota 7: 5.9\n",
            "Digite a nota 8: 7.2\n",
            "Digite a nota 9: 6.9\n",
            "Digite a nota 10: 10\n",
            "Digite a nota 11: 8.5\n",
            "\n",
            "Notas com média: 10.0, 9.0, 7.0, 7.5, 8.0, 7.2, 10.0, 8.5\n",
            "Notas sem média: 6.5, 5.9, 6.9\n"
          ]
        }
      ]
    },
    {
      "cell_type": "markdown",
      "source": [
        "### Exercício 11 – Soma de 12 Salários"
      ],
      "metadata": {
        "id": "daplnPnYjH_y"
      }
    },
    {
      "cell_type": "code",
      "source": [
        "# Lê a quantidade de notas\n",
        "quantidade = int(input(\"Quantas salários você vai digitar? \"))\n",
        "\n",
        "# Lista para armazenar os salários\n",
        "salarios = []\n",
        "\n",
        "# Leitura dos salários\n",
        "for i in range(quantidade):\n",
        "    salario = float(input(f\"Digite o salário {i + 1}: \"))\n",
        "    salarios.append(salario)\n",
        "\n",
        "# Calcula a soma dos salários\n",
        "soma_salarios = sum(salarios)\n",
        "\n",
        "# Exibe a soma dos salários\n",
        "print(f\"\\nA soma dos salários é: R${soma_salarios:.2f}\")"
      ],
      "metadata": {
        "colab": {
          "base_uri": "https://localhost:8080/"
        },
        "id": "ZV45K1J2qJ3r",
        "outputId": "03c23c1a-c04a-47fe-bf33-a2365cdb5e6c"
      },
      "execution_count": null,
      "outputs": [
        {
          "output_type": "stream",
          "name": "stdout",
          "text": [
            "Quantas salários você vai digitar? 12\n",
            "Digite o salário 1: 1900.0\n",
            "Digite o salário 2: 1850.0\n",
            "Digite o salário 3: 1900.0\n",
            "Digite o salário 4: 2100.0\n",
            "Digite o salário 5: 1900.0\n",
            "Digite o salário 6: 1800.0\n",
            "Digite o salário 7: 2000.0\n",
            "Digite o salário 8: 1900.0\n",
            "Digite o salário 9: 2100.0\n",
            "Digite o salário 10: 2200.0\n",
            "Digite o salário 11: 1800.0\n",
            "Digite o salário 12: 2300.0\n",
            "\n",
            "A soma dos salários é: R$23750.00\n"
          ]
        }
      ]
    },
    {
      "cell_type": "markdown",
      "source": [
        "## Exercício 12 – Média de Notas"
      ],
      "metadata": {
        "id": "lR_BGT_Gqat0"
      }
    },
    {
      "cell_type": "code",
      "source": [
        "# Lê a quantidade de notas\n",
        "quantidade = int(input(\"Quantas notas você vai digitar? \"))\n",
        "\n",
        "# Lista para armazenar os números\n",
        "notas = []\n",
        "\n",
        "# Leitura das notas\n",
        "for i in range(quantidade):\n",
        "    nota = float(input(f\"Digite a nota {i + 1}: \"))\n",
        "    notas.append(nota)\n",
        "\n",
        "# Calcula a soma das notas\n",
        "media = sum(notas)\n",
        "\n",
        "# Exibe a média das notas\n",
        "print(f\"\\nA média das notas é: {media/quantidade:.2f}\")"
      ],
      "metadata": {
        "colab": {
          "base_uri": "https://localhost:8080/"
        },
        "id": "LXugi9F-qdHL",
        "outputId": "78bb46f2-bc82-426d-ae15-d8b28c2e7c35"
      },
      "execution_count": null,
      "outputs": [
        {
          "output_type": "stream",
          "name": "stdout",
          "text": [
            "Quantas notas você vai digitar? 7\n",
            "Digite a nota 1: 6\n",
            "Digite a nota 2: 9.0\n",
            "Digite a nota 3: 7.0\n",
            "Digite a nota 4: 7.5\n",
            "Digite a nota 5: 6.5\n",
            "Digite a nota 6: 8.0\n",
            "Digite a nota 7: 5.9\n",
            "\n",
            "A média das notas é: 7.13\n"
          ]
        }
      ]
    },
    {
      "cell_type": "markdown",
      "source": [
        "## Exercício 13 – Contagem de Notas Acima e Abaixo da Média"
      ],
      "metadata": {
        "id": "abRmWKRfqh7E"
      }
    },
    {
      "cell_type": "code",
      "source": [
        "# Lê a quantidade de notas\n",
        "quantidade = int(input(\"Quantas notas você vai digitar? \"))\n",
        "\n",
        "# Lista para armazenar as notas\n",
        "notas = []\n",
        "\n",
        "# Leitura das notas\n",
        "for i in range(quantidade):\n",
        "    nota = float(input(f\"Digite a nota {i + 1}: \"))\n",
        "    notas.append(nota)\n",
        "\n",
        "# Contadores\n",
        "acima_ou_igual_media = 0\n",
        "abaixo_media = 0\n",
        "\n",
        "# Conta as notas\n",
        "for nota in notas:\n",
        "    if nota >= 7.0:\n",
        "        acima_ou_igual_media += 1\n",
        "    else:\n",
        "        abaixo_media += 1\n",
        "\n",
        "# Exibe os resultados\n",
        "print(f\"\\nAlcançaram a média: {acima_ou_igual_media}\")\n",
        "print(f\"Não alcançaram a média: {abaixo_media}\")"
      ],
      "metadata": {
        "colab": {
          "base_uri": "https://localhost:8080/"
        },
        "id": "Im4BLGZTqkqd",
        "outputId": "f78c9333-9e31-4cb9-8bc0-4d610218fc4e"
      },
      "execution_count": null,
      "outputs": [
        {
          "output_type": "stream",
          "name": "stdout",
          "text": [
            "Quantas notas você vai digitar? 6\n",
            "Digite a nota 1: 9.0\n",
            "Digite a nota 2: 7.0\n",
            "Digite a nota 3: 7.5\n",
            "Digite a nota 4: 6.5\n",
            "Digite a nota 5: 8.0\n",
            "Digite a nota 6: 5.9\n",
            "\n",
            "Alcançaram a média: 4\n",
            "Não alcançaram a média: 2\n"
          ]
        }
      ]
    },
    {
      "cell_type": "markdown",
      "source": [
        "## Exercício 14 – Classificação de Idades"
      ],
      "metadata": {
        "id": "ki5CjID4qlBQ"
      }
    },
    {
      "cell_type": "code",
      "source": [
        "# Lê a quantidade de idades\n",
        "quantidade = int(input(\"Quantas idades você vai digitar? \"))\n",
        "\n",
        "# Lista para armazenar as idades\n",
        "idades = []\n",
        "\n",
        "# Leitura das idades\n",
        "for i in range(quantidade):\n",
        "    idade = int(input(f\"Digite a idade {i + 1}: \"))\n",
        "    idades.append(idade)\n",
        "\n",
        "# Contadores\n",
        "criancas = 0\n",
        "adolescentes = 0\n",
        "adultos = 0\n",
        "\n",
        "# Classificação\n",
        "for idade in idades:\n",
        "    if idade <= 11:\n",
        "        criancas += 1\n",
        "    elif idade <= 17:\n",
        "        adolescentes += 1\n",
        "    else:\n",
        "        adultos += 1\n",
        "\n",
        "# Exibição dos resultados\n",
        "print(f\"\\nCrianças: {criancas}\")\n",
        "print(f\"Adolescentes: {adolescentes}\")\n",
        "print(f\"Adultos: {adultos}\")"
      ],
      "metadata": {
        "colab": {
          "base_uri": "https://localhost:8080/"
        },
        "id": "EZM7po6KqoQd",
        "outputId": "cf98f773-9dde-41dc-c9d7-ea5e8823ae2e"
      },
      "execution_count": null,
      "outputs": [
        {
          "output_type": "stream",
          "name": "stdout",
          "text": [
            "Quantas idades você vai digitar? 10\n",
            "Digite a idade 1: 45\n",
            "Digite a idade 2: 17\n",
            "Digite a idade 3: 34\n",
            "Digite a idade 4: 21\n",
            "Digite a idade 5: 15\n",
            "Digite a idade 6: 4\n",
            "Digite a idade 7: 29\n",
            "Digite a idade 8: 12\n",
            "Digite a idade 9: 21\n",
            "Digite a idade 10: 11\n",
            "\n",
            "Crianças: 2\n",
            "Adolescentes: 3\n",
            "Adultos: 5\n"
          ]
        }
      ]
    },
    {
      "cell_type": "markdown",
      "source": [
        "## Exercício 15 – Média de Idades por Grupo"
      ],
      "metadata": {
        "id": "VxokjIQeqoml"
      }
    },
    {
      "cell_type": "code",
      "source": [
        "# Lê a quantidade de idades\n",
        "quantidade = int(input(\"Quantas idades você vai digitar? \"))\n",
        "\n",
        "# Lista para armazenar as idades\n",
        "idades = []\n",
        "\n",
        "# Leitura das idades\n",
        "for i in range(quantidade):\n",
        "    idade = int(input(f\"Digite a idade {i + 1}: \"))\n",
        "    idades.append(idade)\n",
        "\n",
        "# Contadores e somas por faixa etária\n",
        "criancas = adolescentes = adultos = 0\n",
        "soma_criancas = soma_adolescentes = soma_adultos = 0\n",
        "\n",
        "# Classificação e soma\n",
        "for idade in idades:\n",
        "    if idade <= 11:\n",
        "        criancas += 1\n",
        "        soma_criancas += idade\n",
        "    elif idade <= 17:\n",
        "        adolescentes += 1\n",
        "        soma_adolescentes += idade\n",
        "    else:\n",
        "        adultos += 1\n",
        "        soma_adultos += idade\n",
        "\n",
        "# Cálculo das médias (evita divisão por zero)\n",
        "media_criancas = soma_criancas / criancas if criancas > 0 else 0\n",
        "media_adolescentes = soma_adolescentes / adolescentes if adolescentes > 0 else 0\n",
        "media_adultos = soma_adultos / adultos if adultos > 0 else 0\n",
        "\n",
        "# Exibição dos resultados\n",
        "print(f\"\\nCrianças: {criancas}, Média: {media_criancas:.2f}\")\n",
        "print(f\"Adolescentes: {adolescentes}, Média: {media_adolescentes:.2f}\")\n",
        "print(f\"Adultos: {adultos}, Média: {media_adultos:.2f}\")\n"
      ],
      "metadata": {
        "colab": {
          "base_uri": "https://localhost:8080/"
        },
        "id": "Q4uflwHHqsMd",
        "outputId": "aebac7b1-caaf-498b-e30c-fb564a435e83"
      },
      "execution_count": null,
      "outputs": [
        {
          "output_type": "stream",
          "name": "stdout",
          "text": [
            "Quantas idades você vai digitar? 10\n",
            "Digite a idade 1: 45\n",
            "Digite a idade 2: 17\n",
            "Digite a idade 3: 34\n",
            "Digite a idade 4: 21\n",
            "Digite a idade 5: 15\n",
            "Digite a idade 6: 4\n",
            "Digite a idade 7: 11\n",
            "Digite a idade 8: 29\n",
            "Digite a idade 9: 12\n",
            "Digite a idade 10: 21\n",
            "\n",
            "Crianças: 2, Média: 7.50\n",
            "Adolescentes: 3, Média: 14.67\n",
            "Adultos: 5, Média: 30.00\n"
          ]
        }
      ]
    },
    {
      "cell_type": "markdown",
      "source": [
        "## Exercício 16 – Contar Números Primos"
      ],
      "metadata": {
        "id": "e0GN0icmqseB"
      }
    },
    {
      "cell_type": "code",
      "source": [
        "# Função para verificar se um número é primo\n",
        "def eh_primo(n):\n",
        "    if n < 2:\n",
        "        return False\n",
        "    for i in range(2, int(n**0.5) + 1):\n",
        "        if n % i == 0:\n",
        "            return False\n",
        "    return True\n",
        "\n",
        "# Lê a quantidade de números\n",
        "quantidade = int(input(\"Quantos números você vai digitar? \"))\n",
        "\n",
        "# Lista para armazenar os números\n",
        "numeros = []\n",
        "\n",
        "# Leitura dos números\n",
        "for i in range(quantidade):\n",
        "    numero = int(input(f\"Digite o número {i + 1}: \"))\n",
        "    numeros.append(numero)\n",
        "\n",
        "# Conta quantos são primos\n",
        "quantidade_primos = 0\n",
        "for numero in numeros:\n",
        "    if eh_primo(numero):\n",
        "        quantidade_primos += 1\n",
        "\n",
        "# Exibe o resultado\n",
        "print(f\"\\nQuantidade de números primos: {quantidade_primos}\")"
      ],
      "metadata": {
        "colab": {
          "base_uri": "https://localhost:8080/"
        },
        "id": "ukEdVx7AquzW",
        "outputId": "995caa4e-82bd-4a4c-db02-4abc00705fea"
      },
      "execution_count": null,
      "outputs": [
        {
          "output_type": "stream",
          "name": "stdout",
          "text": [
            "Quantos números você vai digitar? 10\n",
            "Digite o número 1: 45\n",
            "Digite o número 2: 17\n",
            "Digite o número 3: 34\n",
            "Digite o número 4: 21\n",
            "Digite o número 5: 15\n",
            "Digite o número 6: 4\n",
            "Digite o número 7: 11\n",
            "Digite o número 8: 29\n",
            "Digite o número 9: 12\n",
            "Digite o número 10: 21\n",
            "\n",
            "Quantidade de números primos: 3\n"
          ]
        }
      ]
    }
  ]
}