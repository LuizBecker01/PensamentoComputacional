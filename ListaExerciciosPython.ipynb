{
  "nbformat": 4,
  "nbformat_minor": 0,
  "metadata": {
    "colab": {
      "provenance": [],
      "authorship_tag": "ABX9TyNjFu9jxuhl1bGJ9B6eka9+",
      "include_colab_link": true
    },
    "kernelspec": {
      "name": "python3",
      "display_name": "Python 3"
    },
    "language_info": {
      "name": "python"
    }
  },
  "cells": [
    {
      "cell_type": "markdown",
      "metadata": {
        "id": "view-in-github",
        "colab_type": "text"
      },
      "source": [
        "<a href=\"https://colab.research.google.com/github/LuizBecker01/PensamentoComputacional/blob/main/ListaExerciciosPython.ipynb\" target=\"_parent\"><img src=\"https://colab.research.google.com/assets/colab-badge.svg\" alt=\"Open In Colab\"/></a>"
      ]
    },
    {
      "cell_type": "markdown",
      "source": [
        "# Exercícios de Aula Comandos de Entrada e Saída em Python"
      ],
      "metadata": {
        "id": "RD5e8x_f8ivn"
      }
    },
    {
      "cell_type": "markdown",
      "source": [
        "1 - Faça em Python um algoritmo que leia um número inteiro qualquer. O algoritmo deve calcular e escrever o quadrado, a raiz quadrada, e a divisão do quadrado pela raiz quadrada do número lido."
      ],
      "metadata": {
        "id": "YL4Coob39Mon"
      }
    },
    {
      "cell_type": "code",
      "execution_count": null,
      "metadata": {
        "colab": {
          "base_uri": "https://localhost:8080/"
        },
        "id": "sysHH0ma8Jbs",
        "outputId": "5337607a-aeff-4295-d348-5120ed88791c"
      },
      "outputs": [
        {
          "output_type": "stream",
          "name": "stdout",
          "text": [
            "Digite um número inteiro qualquer:10\n",
            "O quadrado de 10 é 100 , a raiz quadrada é 3.1622776601683795  e a divisao do quadrado pela raiz quadrada 31.622776601683793\n"
          ]
        }
      ],
      "source": [
        "# Algoritmo de cálculo de quadrado, raiz quadrada e divisão do quadrado pela raiz quadrada\n",
        "\n",
        "#bibliotecas\n",
        "import math\n",
        "\n",
        "# vars\n",
        "n = 0\n",
        "quad = 0\n",
        "raiz = 0.0\n",
        "div_quad_raiz = 0.0\n",
        "\n",
        "# inicio\n",
        "n = int(input(\"Digite um número inteiro qualquer:\"))\n",
        "\n",
        "# quadrado de n\n",
        "quad = n ** 2\n",
        "\n",
        "# raiz de n\n",
        "raiz = math.sqrt(n)\n",
        "\n",
        "#divisao do quadrado pela raiz\n",
        "div_quad_raiz = quad / raiz\n",
        "\n",
        "#saida\n",
        "print(\"O quadrado de\", n, \"é\", quad, \", a raiz quadrada é\", raiz,\" e a divisao do quadrado pela raiz quadrada\", div_quad_raiz)"
      ]
    },
    {
      "cell_type": "markdown",
      "source": [
        "2 -  Faça em Python um algoritmo que calcule e escreva o preço final de um computador, sendo fornecido o preço de fábrica. O preço final do computador é calculado com base nos adicionais de: 30 % de imposto e 10 % de revenda sobre o preço de fábrica."
      ],
      "metadata": {
        "id": "UiCQgVpAB23c"
      }
    },
    {
      "cell_type": "code",
      "source": [
        "# Algoritmo para calcular o preço final de um computador, adicionando 30% de imposto e 10% de revenda sobre o preco de fabrica\n",
        "\n",
        "# consts\n",
        "imposto = 30\n",
        "revenda = 10\n",
        "\n",
        "# vars\n",
        "P_FAB, IMP, REV, P_FINAL = 0.0, 0.0, 0.0, 0.0\n",
        "\n",
        "# inicio\n",
        "P_FAB = float(input(\"Digite o preço de fábrica do computador:\"))\n",
        "IMP = P_FAB * (imposto/100)\n",
        "REV = P_FAB * (revenda/100)\n",
        "P_FINAL = P_FAB + IMP + REV\n",
        "\n",
        "#saida\n",
        "print(\"O preço final do computador é R$\", P_FINAL)"
      ],
      "metadata": {
        "colab": {
          "base_uri": "https://localhost:8080/"
        },
        "id": "JMNpQVF5B7Zk",
        "outputId": "e1cdf8e1-1043-4c2f-ee64-fbbd9c3a2b24"
      },
      "execution_count": null,
      "outputs": [
        {
          "output_type": "stream",
          "name": "stdout",
          "text": [
            "Digite o preço de fábrica do computador:5000\n",
            "O preço final do computador é R$ 7000.0\n"
          ]
        }
      ]
    },
    {
      "cell_type": "markdown",
      "source": [
        "3 - Faça um algoritmo em Python que leia três números inteiros e calcule a sua média. Ao final, o algoritmo deve escrever os números lidos e o resultado da média."
      ],
      "metadata": {
        "id": "woLbNUrmCny9"
      }
    },
    {
      "cell_type": "code",
      "source": [
        "# Algoritmo media\n",
        "\n",
        "# vars\n",
        "n1, n2, n3, media = 0, 0, 0, 0.0\n",
        "\n",
        "# inicio\n",
        "n1 = int(input(\"Digite o primeiro número inteiro:\"))\n",
        "n2 = int(input(\"Digite o segundo número inteiro:\"))\n",
        "n3 = int(input(\"Digite o terceiro número inteiro:\"))\n",
        "media = (n1 + n2 + n3) / 3\n",
        "\n",
        "#saida\n",
        "print(\"Os números lidos foram\", n1, \",\", n2, \"e\", n3, \"e a média é\", media)"
      ],
      "metadata": {
        "colab": {
          "base_uri": "https://localhost:8080/"
        },
        "id": "36COdVKVCpmn",
        "outputId": "48270936-f42c-4a61-b9ec-159643f15eac"
      },
      "execution_count": null,
      "outputs": [
        {
          "output_type": "stream",
          "name": "stdout",
          "text": [
            "Digite o primeiro número inteiro:2\n",
            "Digite o segundo número inteiro:14\n",
            "Digite o terceiro número inteiro:7\n",
            "Os números lidos foram 2 , 14 e 7 e a média é 7.666666666666667\n"
          ]
        }
      ]
    },
    {
      "cell_type": "markdown",
      "source": [
        "4 - Fazer um algoritmo em Python que calcule o número de litros de combustível gastos em uma viagem, sabendo-se que o carro faz 12 km com um litro. Deverão ser lidos o tempo gasto na viagem e a velocidade média. Aplicar as seguintes fórmulas:\n",
        "- Distância = tempo gasto x velocidade média\n",
        "- litros gastos = distância / 12"
      ],
      "metadata": {
        "id": "22XIIR1iCqgX"
      }
    },
    {
      "cell_type": "code",
      "source": [
        "# Algoritmo num_lit_combustivel\n",
        "\n",
        "# vars\n",
        "tempo_gasto, vel_media, dist, num_lit_combustivel = 0.0, 0.0, 0.0, 0.0\n",
        "\n",
        "# inicio\n",
        "tempo_gasto = float(input(\"Digite o tempo gasto na viagem:\"))\n",
        "vel_media = float(input(\"Digite a velocidade média:\"))\n",
        "dist = tempo_gasto * vel_media\n",
        "num_lit_combustivel = dist / 12\n",
        "\n",
        "# saida\n",
        "print(\"O número de litros de combustível gastos na viagem é\", num_lit_combustivel)"
      ],
      "metadata": {
        "colab": {
          "base_uri": "https://localhost:8080/"
        },
        "id": "zFDRM630CrI3",
        "outputId": "afe2c293-0da1-4ca6-ef29-063aeb33700e"
      },
      "execution_count": null,
      "outputs": [
        {
          "output_type": "stream",
          "name": "stdout",
          "text": [
            "Digite o tempo gasto na viagem:6\n",
            "Digite a velocidade média:100\n",
            "O número de litros de combustível gastos na viagem é 50.0\n"
          ]
        }
      ]
    },
    {
      "cell_type": "markdown",
      "source": [
        "5 - Faça em Python um algoritmo que leia dois números inteiros (x e y), e calcule o quociente e o resto da divisão de x por y e escreva os resultados."
      ],
      "metadata": {
        "id": "WPUc4RPCCxWe"
      }
    },
    {
      "cell_type": "code",
      "source": [
        "# Algoritmo quociente_resto\n",
        "\n",
        "# vars\n",
        "x, y, quociente, resto = 0, 0, 0, 0\n",
        "\n",
        "# inicio\n",
        "x = int(input(\"Digite o primeiro número inteiro:\"))\n",
        "y = int(input(\"Digite o segundo número inteiro:\"))\n",
        "quociente = x // y\n",
        "resto = x % y\n",
        "\n",
        "# saida\n",
        "print(\"O quociente da divisão de\", x, \"por\", y, \"é\", quociente, \"e o resto é\", resto)"
      ],
      "metadata": {
        "colab": {
          "base_uri": "https://localhost:8080/"
        },
        "id": "Av9QDDpcGueH",
        "outputId": "43c66d69-8c8a-408e-984a-4bbc01dac390"
      },
      "execution_count": null,
      "outputs": [
        {
          "output_type": "stream",
          "name": "stdout",
          "text": [
            "Digite o primeiro número inteiro:4\n",
            "Digite o segundo número inteiro:6\n",
            "O quociente da divisão de 4 por 6 é 0 e o resto é 4\n"
          ]
        }
      ]
    },
    {
      "cell_type": "markdown",
      "source": [
        "6 - Escreva em python um algoritmo que leia três números reais (a, b, c), e calcule a média aritmética. Após os cálculos, os resultados deverão ser escritos."
      ],
      "metadata": {
        "id": "llr1oD6jC1QO"
      }
    },
    {
      "cell_type": "code",
      "source": [
        "# Algoritmo media_aritmetica\n",
        "\n",
        "# vars\n",
        "a, b, c, media = 0.0, 0.0, 0.0, 0.0\n",
        "\n",
        "# inicio\n",
        "a = float(input(\"Digite o primeiro número:\"))\n",
        "b = float(input(\"Digite o segundo número:\"))\n",
        "c = float(input(\"Digite o terceiro número:\"))\n",
        "media = (a + b + c) / 3\n",
        "\n",
        "# saida\n",
        "print(\"A média aritmética dos números\", a, \",\", b, \"e\", c, \"é\", media)"
      ],
      "metadata": {
        "colab": {
          "base_uri": "https://localhost:8080/"
        },
        "id": "wbyzpdOnC4cP",
        "outputId": "97a2f322-8e32-4111-b9f6-25f065c01c93"
      },
      "execution_count": null,
      "outputs": [
        {
          "output_type": "stream",
          "name": "stdout",
          "text": [
            "Digite o primeiro número:4\n",
            "Digite o segundo número:5\n",
            "Digite o terceiro número:8\n",
            "A média aritmética dos números 4.0 , 5.0 e 8.0 é 5.666666666666667\n"
          ]
        }
      ]
    },
    {
      "cell_type": "markdown",
      "source": [
        "7 - Uma loja de equipamentos de informática resolveu incentivar os seus funcionários a venderem no mês março. Para cada produto vendido, a loja dará uma bonificação de 1%, sobre o salário do funcionário. Desta forma, o funcionário que vender 10 produtos, terá um acréscimo de 10% em seu salário. Faça um algoritmo em Python que leia o código, o nome e o salário fixo do funcionário, além do número de produtos vendidos por ele no mês, e calcule o salário final do funcionário. Por fim, o algoritmo deve escrever o código e o nome do funcionário, juntamente com o seu salário final."
      ],
      "metadata": {
        "id": "uYMDuHODC49X"
      }
    },
    {
      "cell_type": "code",
      "source": [
        "# Algoritmo bonificacao\n",
        "\n",
        "# vars\n",
        "cod, nome, sal_fixo, num_prod, sal_final = 0, \"\", 0.0, 0, 0.0\n",
        "\n",
        "# inicio\n",
        "cod = int(input(\"Digite o código do funcionário:\"))\n",
        "nome = input(\"Digite o nome do funcionário:\")\n",
        "sal_fixo = float(input(\"Digite o salário fixo do funcionário:\"))\n",
        "num_prod = int(input(\"Digite o número de produtos vendidos no mês:\"))\n",
        "sal_final = sal_fixo + (sal_fixo * (num_prod * 0.01))\n",
        "\n",
        "# saida\n",
        "print(\"O funcionário de código\", cod, \"e nome\", nome, \"receberá um salário final de R$\", sal_final)"
      ],
      "metadata": {
        "colab": {
          "base_uri": "https://localhost:8080/"
        },
        "id": "CHvitB_pC7me",
        "outputId": "a9c7b352-f3c7-464b-f0c5-58d1399edb2d"
      },
      "execution_count": null,
      "outputs": [
        {
          "output_type": "stream",
          "name": "stdout",
          "text": [
            "Digite o código do funcionário:433\n",
            "Digite o nome do funcionário:luan\n",
            "Digite o salário fixo do funcionário:11000\n",
            "Digite o número de produtos vendidos no mês:20\n",
            "O funcionário de código 433 e nome luan receberá um salário final de R$ 13200.0\n"
          ]
        }
      ]
    },
    {
      "cell_type": "markdown",
      "source": [
        "8 - Construa um algoritmo em Python que calcule a quantidade de latas de tintas necessárias e o custo para pintar tanques cilíndricos de combustível, onde são fornecidos a altura e o raio deste cilindro. Sabendo que:\n",
        "● a lata de tinta custa R$ 150,00\n",
        "● cada lata contém 5 litros;\n",
        "● cada litro de tinta pinta 3 metros quadrados;\n",
        "● a área do total cilindro é dada por área da base + área lateral;\n",
        "● a área da base do cilindro é dada π*raio2\n",
        "● a área da lateral é 2*π*raio*altura.\n",
        "● Lembrando que π (pi) vale 3,14."
      ],
      "metadata": {
        "id": "pAetj6NZC75n"
      }
    },
    {
      "cell_type": "code",
      "source": [
        "#Algoritmo latas\n",
        "\n",
        "import math\n",
        "\n",
        "# Constantes\n",
        "PI = 3.14\n",
        "PRECO_LATA = 150.00\n",
        "LITROS_POR_LATA = 5\n",
        "RENDIMENTO = 3  # metros quadrados por litro\n",
        "\n",
        "# Entrada de dados\n",
        "altura = float(input(\"Digite a altura do cilindro (em metros): \"))\n",
        "raio = float(input(\"Digite o raio do cilindro (em metros): \"))\n",
        "\n",
        "# Cálculo da área\n",
        "area_base = PI * raio ** 2\n",
        "area_lateral = 2 * PI * raio * altura\n",
        "area_total = 2 * area_base + area_lateral\n",
        "\n",
        "# Cálculo de tinta necessária\n",
        "litros_necessarios = area_total / RENDIMENTO\n",
        "latas_necessarias = math.ceil(litros_necessarios / LITROS_POR_LATA)\n",
        "custo_total = latas_necessarias * PRECO_LATA\n",
        "\n",
        "# Saída\n",
        "print(f\"\\nÁrea total a ser pintada: {area_total:.2f} m²\")\n",
        "print(f\"Litros de tinta necessários: {litros_necessarios:.2f} L\")\n",
        "print(f\"Latas de tinta necessárias: {latas_necessarias}\")\n",
        "print(f\"Custo total: R$ {custo_total:.2f}\")"
      ],
      "metadata": {
        "id": "c35fz5VsC-0f",
        "colab": {
          "base_uri": "https://localhost:8080/"
        },
        "outputId": "c652bdff-334d-4903-b371-4310f11b6dff"
      },
      "execution_count": null,
      "outputs": [
        {
          "output_type": "stream",
          "name": "stdout",
          "text": [
            "Digite a altura do cilindro (em metros): 6\n",
            "Digite o raio do cilindro (em metros): 2\n",
            "\n",
            "Área total a ser pintada: 100.48 m²\n",
            "Litros de tinta necessários: 33.49 L\n",
            "Latas de tinta necessárias: 7\n",
            "Custo total: R$ 1050.00\n"
          ]
        }
      ]
    },
    {
      "cell_type": "markdown",
      "source": [
        "9 - Elabore um algoritmo em Python para calcular e escrever o preço final de um computador, sendo fornecido o preço de fábrica. O preço final do computador é calculado com base nos adicionais 45 % de imposto e 28 % de revenda sobre o preço de fábrica."
      ],
      "metadata": {
        "id": "xvnTMSaADAA2"
      }
    },
    {
      "cell_type": "code",
      "source": [
        "# Algoritmo precoF\n",
        "\n",
        "# inicio\n",
        "preco_fabrica = float(input(\"Digite o preço de fábrica do computador (em R$): \"))\n",
        "\n",
        "# Cálculo dos adicionais\n",
        "imposto = preco_fabrica * 0.45\n",
        "revenda = preco_fabrica * 0.28\n",
        "\n",
        "# Cálculo do preço final\n",
        "preco_final = preco_fabrica + imposto + revenda\n",
        "\n",
        "# Saída\n",
        "print(f\"\\nPreço de fábrica: R$ {preco_fabrica:.2f}\")\n",
        "print(f\"Valor do imposto (45%): R$ {imposto:.2f}\")\n",
        "print(f\"Valor da revenda (28%): R$ {revenda:.2f}\")\n",
        "print(f\"Preço final do computador: R$ {preco_final:.2f}\")"
      ],
      "metadata": {
        "id": "Rqe97L7SDNan",
        "colab": {
          "base_uri": "https://localhost:8080/"
        },
        "outputId": "facb823d-3a38-4fde-f533-26852ce9572d"
      },
      "execution_count": null,
      "outputs": [
        {
          "output_type": "stream",
          "name": "stdout",
          "text": [
            "Digite o preço de fábrica do computador (em R$): 1900\n",
            "\n",
            "Preço de fábrica: R$ 1900.00\n",
            "Valor do imposto (45%): R$ 855.00\n",
            "Valor da revenda (28%): R$ 532.00\n",
            "Preço final do computador: R$ 3287.00\n"
          ]
        }
      ]
    },
    {
      "cell_type": "markdown",
      "source": [
        "10 - Uma revendedora de carros usados paga aos seus funcionários vendedores, um salário fixo por mês, mais uma comissão para cada carro vendido. Escreva um algoritmo em Python que leia o número do vendedor, o seu salário fixo, o número de carros por ele vendidos, e o valor que recebe por carro vendido, e calcule o salário mensal do vendedor, escrevendo-o juntamente com o seu número de identificação."
      ],
      "metadata": {
        "id": "1nmsX4a4DN5_"
      }
    },
    {
      "cell_type": "code",
      "source": [
        "# Algoritmo carros\n",
        "\n",
        "# Inicio\n",
        "numero_vendedor = input(\"Digite o número do vendedor: \")\n",
        "salario_fixo = float(input(\"Digite o salário fixo do vendedor (em R$): \"))\n",
        "carros_vendidos = int(input(\"Digite o número de carros vendidos: \"))\n",
        "comissao_por_carro = float(input(\"Digite o valor recebido por carro vendido (em R$): \"))\n",
        "\n",
        "# Cálculo do salário final\n",
        "salario_total = salario_fixo + (carros_vendidos * comissao_por_carro)\n",
        "\n",
        "# Saída\n",
        "print(f\"\\nNúmero do vendedor: {numero_vendedor}\")\n",
        "print(f\"Salário total no mês: R$ {salario_total:.2f}\")"
      ],
      "metadata": {
        "id": "fPHxuZPSDTm4",
        "colab": {
          "base_uri": "https://localhost:8080/"
        },
        "outputId": "d32e0d7b-4c42-447c-f44e-47cbde6e90b4"
      },
      "execution_count": null,
      "outputs": [
        {
          "output_type": "stream",
          "name": "stdout",
          "text": [
            "Digite o número do vendedor: 21\n",
            "Digite o salário fixo do vendedor (em R$): 3500\n",
            "Digite o número de carros vendidos: 3\n",
            "Digite o valor recebido por carro vendido (em R$): 1500\n",
            "\n",
            "Número do vendedor: 21\n",
            "Salário total no mês: R$ 8000.00\n"
          ]
        }
      ]
    },
    {
      "cell_type": "markdown",
      "source": [
        "11 - Uma empresa, para emitir a sua folha de pagamento mensal, trabalha com os seguintes dados: Relativos ao Sistema de Pagamentos\n",
        "Valor da Hora Normal = R$ 8,00\n",
        "Valor da Hora Extra = R$ 9,50\n",
        "Valor do Acréscimo por Dependente = RS 2,50\n",
        "Relativos a cada Funcionário\n",
        "Número de Identificação\n",
        "Nome\n",
        "Número de horas normais trabalhadas\n",
        "Número de horas extras trabalhadas\n",
        "Número de dependentes\n",
        "O cálculo do salário de cada funcionário é feito em 3 etapas:\n",
        "Etapa 1 : Cálculo do Salário Bruto\n",
        "SALARIO BRUTO = Valor Total de Horas Normais + Valor Total de Horas Extras + Valor Total de Dependentes\n",
        "Etapa 2 : Descontos\n",
        "Todos os funcionários são isentos de imposto de renda, e descontam 5% do salário bruto para o INSS. Etapa 3 : Salário Líquido\n",
        "SALARIO LÍQUIDO = SALARIO BRUTO - DESCONTO\n",
        "Escrever um algoritmo em Python que leia os dados referentes ao funcionário, calcule e escreva o salário líquido do funcionário da empresa. Obs.: Além do salário líquido, escreva o número de identificação e o nome do funcionário."
      ],
      "metadata": {
        "id": "Ols-_0w5DUCn"
      }
    },
    {
      "cell_type": "code",
      "source": [
        "# Algoritmo folhaDePagamento\n",
        "\n",
        "# Const\n",
        "VALOR_HORA_NORMAL = 8.00\n",
        "VALOR_HORA_EXTRA = 9.50\n",
        "VALOR_DEPENDENTE = 2.50\n",
        "DESCONTO_INSS = 0.05\n",
        "\n",
        "# Inicio\n",
        "id_funcionario = input(\"Digite o número de identificação do funcionário: \")\n",
        "nome = input(\"Digite o nome do funcionário: \")\n",
        "horas_normais = float(input(\"Digite o número de horas normais trabalhadas: \"))\n",
        "horas_extras = float(input(\"Digite o número de horas extras trabalhadas: \"))\n",
        "dependentes = int(input(\"Digite o número de dependentes: \"))\n",
        "\n",
        "# Salário Bruto\n",
        "salario_bruto = (horas_normais * VALOR_HORA_NORMAL) + \\\n",
        "                (horas_extras * VALOR_HORA_EXTRA) + \\\n",
        "                (dependentes * VALOR_DEPENDENTE)\n",
        "\n",
        "# Desconto do INSS\n",
        "desconto_inss = salario_bruto * DESCONTO_INSS\n",
        "\n",
        "# Salário Líquido\n",
        "salario_liquido = salario_bruto - desconto_inss\n",
        "\n",
        "# Saída\n",
        "print(f\"Funcionário: {nome}\")\n",
        "print(f\"ID: {id_funcionario}\")\n",
        "print(f\"Salário Bruto: R$ {salario_bruto:.2f}\")\n",
        "print(f\"Desconto INSS (5%): R$ {desconto_inss:.2f}\")\n",
        "print(f\"Salário Líquido: R$ {salario_liquido:.2f}\")\n"
      ],
      "metadata": {
        "id": "8O9nB5ECDan3",
        "colab": {
          "base_uri": "https://localhost:8080/"
        },
        "outputId": "949821f7-c7ae-4b18-8401-0b41b484d625"
      },
      "execution_count": null,
      "outputs": [
        {
          "output_type": "stream",
          "name": "stdout",
          "text": [
            "Digite o número de identificação do funcionário: 155\n",
            "Digite o nome do funcionário: caio\n",
            "Digite o número de horas normais trabalhadas: 40\n",
            "Digite o número de horas extras trabalhadas: 12\n",
            "Digite o número de dependentes: 5\n",
            "Funcionário: caio\n",
            "ID: 155\n",
            "Salário Bruto: R$ 446.50\n",
            "Desconto INSS (5%): R$ 22.33\n",
            "Salário Líquido: R$ 424.18\n"
          ]
        }
      ]
    }
  ]
}